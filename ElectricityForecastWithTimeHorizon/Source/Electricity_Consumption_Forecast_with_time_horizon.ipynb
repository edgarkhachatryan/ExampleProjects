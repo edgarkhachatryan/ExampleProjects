{
 "cells": [
  {
   "cell_type": "code",
   "execution_count": 363,
   "metadata": {},
   "outputs": [],
   "source": [
    "import numpy as np\n",
    "import pandas as pd\n",
    "import os\n",
    "import csv\n",
    "import seaborn as sns\n",
    "import matplotlib.pyplot as plt\n",
    "%matplotlib inline\n",
    "from datetime import timedelta\n",
    "from time import time\n",
    "from datetime import datetime\n",
    "from tqdm import tqdm, tqdm_notebook\n",
    "from datetime import datetime"
   ]
  },
  {
   "cell_type": "code",
   "execution_count": 2,
   "metadata": {},
   "outputs": [
    {
     "name": "stderr",
     "output_type": "stream",
     "text": [
      "Using TensorFlow backend.\n"
     ]
    }
   ],
   "source": [
    "from keras.models import model_from_json"
   ]
  },
  {
   "cell_type": "code",
   "execution_count": 3,
   "metadata": {},
   "outputs": [],
   "source": [
    "from sklearn.metrics import mean_squared_log_error, mean_squared_error"
   ]
  },
  {
   "cell_type": "code",
   "execution_count": 4,
   "metadata": {},
   "outputs": [],
   "source": [
    "from keras.models import Input, Model\n",
    "from keras.layers import LSTM, Dense, TimeDistributed, Embedding, Reshape, Concatenate, Bidirectional\n",
    "from keras import backend as K"
   ]
  },
  {
   "cell_type": "code",
   "execution_count": 5,
   "metadata": {},
   "outputs": [],
   "source": [
    "#Retrieves the import filepath.\n",
    "def CreatePathName(dir1='', dir2='', dir3='', dir4='', filename=''):\n",
    "    '''Directory generator function.\n",
    "\n",
    "    Args:\n",
    "        dir1: Parent direrctory name if exists.\n",
    "        dir2: First Child direrctory name if exists.\n",
    "        dir3: Second Child direrctory name if exists.\n",
    "        dir4: Third Child direrctory name if exists.\n",
    "        filename: Filname  if exists with the extension.\n",
    "\n",
    "    Returns:\n",
    "        Absolute path.\n",
    "    '''\n",
    "    path = os.path.join(os.path.dirname(os.path.realpath(__name__)), dir1, dir2, dir3, dir4, filename)\n",
    "    return path"
   ]
  },
  {
   "cell_type": "code",
   "execution_count": 6,
   "metadata": {},
   "outputs": [
    {
     "name": "stdout",
     "output_type": "stream",
     "text": [
      "C:\\DATA\\DATA\\ANN_python\\Projects_to_Investigate\\HEC\\input\n"
     ]
    }
   ],
   "source": [
    "#Joins filepath with filename and changes the working directory.\n",
    "csvFilesPath = CreatePathName(os.pardir, 'input')\n",
    "os.chdir(csvFilesPath)\n",
    "print(os.getcwd())"
   ]
  },
  {
   "cell_type": "code",
   "execution_count": 7,
   "metadata": {},
   "outputs": [
    {
     "name": "stdout",
     "output_type": "stream",
     "text": [
      "Dataframe dfAEP \n",
      "                       AEP_MW\n",
      "Datetime                    \n",
      "2004-10-01 01:00:00  12379.0\n",
      "2004-10-01 02:00:00  11935.0\n",
      "2018-08-03 00:00:00  14809.0 \n",
      "\n",
      " has 121273 rows.\n"
     ]
    }
   ],
   "source": [
    "#Printing first 2 and last row of df.\n",
    "dfAEP = (pd.read_csv(filepath_or_buffer=os.listdir(csvFilesPath)[0], \n",
    "                                     index_col=0, \n",
    "                                     header=0, \n",
    "                                     parse_dates=True)).sort_index()\n",
    "print(\"Dataframe {} \\n {} \\n\\n has {} rows.\".format(\"dfAEP\", dfAEP.iloc[[0,1,-1]], dfAEP.shape[0]))"
   ]
  },
  {
   "cell_type": "markdown",
   "metadata": {},
   "source": [
    "Let's rename the AEP_MW column \"Cons\"."
   ]
  },
  {
   "cell_type": "code",
   "execution_count": 8,
   "metadata": {},
   "outputs": [],
   "source": [
    "#Rename the column of all dfs to Cons.\n",
    "dfAEP.rename(columns=lambda x: 'Cons', inplace=True)"
   ]
  },
  {
   "cell_type": "code",
   "execution_count": 9,
   "metadata": {},
   "outputs": [],
   "source": [
    "def checkNegativeOrZeroValues (df, column):\n",
    "    '''\n",
    "    Descriptioin:\n",
    "        Prints the number of zero or negative values, and returns the index of such row in case of non-zero result.\n",
    "        If no zero value, returns nothing.\n",
    "        \n",
    "    Args:\n",
    "        df: Data Frame to look in.\n",
    "        column: the column in which the 0 or negative value is checked. \n",
    "    \n",
    "    Returns:\n",
    "        list of 0 indices in df. \n",
    "        \n",
    "    Revisions:\n",
    "        E.Khachatryan 2020-06-06\n",
    "    '''\n",
    "    indicesOfZeros = []\n",
    "    noOfZeros = len(df.loc[df[column]<=0, column].values.tolist())\n",
    "    if noOfZeros==0:\n",
    "        return print(\"There is no 0 or negative value in the df\")\n",
    "    elif noOfZeros>0:\n",
    "        print(\"There are '{}' negative or zero values in the df\".format(noOfZeros))\n",
    "        indicesOfZeros = df.index[df[column] <= 0].values.tolist()\n",
    "        return indicesOfZeros\n",
    "    else:\n",
    "        raise Exception(\"Number of rows couldn't be negative: {}\".format(noOfZeros))\n",
    "         \n",
    "########################################################################################\n",
    "def checkMissingValues(df):\n",
    "    '''\n",
    "    Descriptioin:\n",
    "        Prints the number of missing (null) values, and returns the index of such row in case of non-zero result.\n",
    "        If no zero value, returns nothing.\n",
    "        \n",
    "    Args:\n",
    "        df: Data Frame to look in.\n",
    "            \n",
    "    Returns:\n",
    "        list of 0 indices in df. \n",
    "        \n",
    "    Revisions:\n",
    "        E.Khachatryan 2020-06-07   \n",
    "    '''\n",
    "    nullRows = df.isnull().any(axis=1)\n",
    "    sumOfNullContainingRows = sum(nullRows)\n",
    "    if sumOfNullContainingRows == 0:\n",
    "        print(\"Data Frame has no missing values.\")\n",
    "    else:\n",
    "        print(\"Data Frame has {} missing value(s).\".format(sumOfNullContainingRows))\n",
    "        return df[nullRows].index.values"
   ]
  },
  {
   "cell_type": "code",
   "execution_count": 10,
   "metadata": {},
   "outputs": [
    {
     "name": "stdout",
     "output_type": "stream",
     "text": [
      "There is no 0 or negative value in the df\n",
      "Data Frame has no missing values.\n"
     ]
    }
   ],
   "source": [
    "checkNegativeOrZeroValues(dfAEP, 'Cons')\n",
    "checkMissingValues(dfAEP)"
   ]
  },
  {
   "cell_type": "code",
   "execution_count": 11,
   "metadata": {},
   "outputs": [],
   "source": [
    "def CreatePlotTotalConsumption (df, y_col, chart_title, x_label, y_label):\n",
    "    '''\n",
    "    DESCRIPTION:\n",
    "        Create a plot for total consumption.\n",
    "\n",
    "    Args:\n",
    "        df: Data Frame.\n",
    "        y_col: Y axes\n",
    "        x_col: X axes\n",
    "\n",
    "    Returns:\n",
    "        A list of Line2D objects representing the plotted data.\n",
    "    '''\n",
    "\n",
    "    # Create a plot.\n",
    "    sns.set()\n",
    "    df.iloc[0:df.shape[0],:].plot(y = y_col, use_index=True, figsize = (18,6), linewidth=1)\n",
    "\n",
    "    # Add labels.\n",
    "    plt.xlabel(x_label)\n",
    "    plt.ylabel(y_label, fontsize = 12)\n",
    "\n",
    "    # Add a title.\n",
    "    chart_title = chart_title\n",
    "    plt.title(chart_title)\n",
    "    return plt"
   ]
  },
  {
   "cell_type": "code",
   "execution_count": 12,
   "metadata": {},
   "outputs": [
    {
     "data": {
      "text/plain": [
       "<module 'matplotlib.pyplot' from 'C:\\\\ProgramData\\\\Anaconda3\\\\lib\\\\site-packages\\\\matplotlib\\\\pyplot.py'>"
      ]
     },
     "execution_count": 12,
     "metadata": {},
     "output_type": "execute_result"
    },
    {
     "data": {
      "image/png": "[encoded data removed]",
      "text/plain": [
       "<Figure size 1296x432 with 1 Axes>"
      ]
     },
     "metadata": {},
     "output_type": "display_data"
    }
   ],
   "source": [
    "CreatePlotTotalConsumption(df=dfAEP, y_col='Cons', chart_title=\"AEP\", \n",
    "                               x_label='Time', y_label='Electricity consumption in kw*h')"
   ]
  },
  {
   "cell_type": "markdown",
   "metadata": {},
   "source": [
    "### Feature engineering\n",
    "#### Predictor Variable"
   ]
  },
  {
   "cell_type": "code",
   "execution_count": 13,
   "metadata": {},
   "outputs": [],
   "source": [
    "#Adding day of week and day of week and hour.\n",
    "# def getWeekDay(timestamp):\n",
    "#     weekday = timestamp.weekday()\n",
    "#     return weekday\n",
    "\n",
    "def addHoursToWDays(timestamp):\n",
    "    weekdayHour = str(timestamp.weekday()) + '_' + timestamp.strftime(\"%H\")\n",
    "    return weekdayHour"
   ]
  },
  {
   "cell_type": "code",
   "execution_count": 14,
   "metadata": {},
   "outputs": [
    {
     "name": "stdout",
     "output_type": "stream",
     "text": [
      "                        Cons WeekDayHour\n",
      "Datetime                                \n",
      "2004-10-01 01:00:00  12379.0        4_01\n",
      "2004-10-01 02:00:00  11935.0        4_02\n",
      "2004-10-01 03:00:00  11692.0        4_03\n",
      "2004-10-01 04:00:00  11597.0        4_04\n",
      "2004-10-01 05:00:00  11681.0        4_05\n"
     ]
    }
   ],
   "source": [
    "weekDayHour = []\n",
    "for i in range(dfAEP.shape[0]):\n",
    "    weekDayHour.append(addHoursToWDays(dfAEP.index[i]))\n",
    "dfAEP['WeekDayHour'] = weekDayHour\n",
    "print(dfAEP.head())"
   ]
  },
  {
   "cell_type": "code",
   "execution_count": 15,
   "metadata": {},
   "outputs": [
    {
     "name": "stdout",
     "output_type": "stream",
     "text": [
      "                        Cons WeekDayHour  meanCons\n",
      "Datetime                                          \n",
      "2004-10-01 01:00:00  12379.0        4_01   14338.4\n",
      "2004-10-01 02:00:00  11935.0        4_02   13787.9\n",
      "2004-10-01 03:00:00  11692.0        4_03   13486.3\n",
      "2004-10-01 04:00:00  11597.0        4_04   13369.5\n",
      "2004-10-01 05:00:00  11681.0        4_05   13513.9\n"
     ]
    }
   ],
   "source": [
    "#Defining the function to add the average consumption based on weekday+hour combination.\n",
    "def addAvgConsUsingWeekdayHour(dataFrame, grByCriteriaCol, sourceCol, targetCol, RowsToCount, roundLevel=1):\n",
    "    if (grByCriteriaCol == sourceCol or grByCriteriaCol==targetCol):\n",
    "        raise Exception('Group by Criteria Column cannot be the same as Source Column or Target Column.')\n",
    "    dataFrame[targetCol] = dataFrame.loc[:,grByCriteriaCol]\\\n",
    "                                            .replace(dataFrame.iloc[:RowsToCount,:]\\\n",
    "                                                     .groupby(grByCriteriaCol)[sourceCol]\\\n",
    "                                                         .mean()\\\n",
    "                                                             .round(roundLevel)\\\n",
    "                                                                 .to_dict())\n",
    "\n",
    "#Adding meanCons column that contains the average consumption by weekday and hour.    \n",
    "Rows = 24*365\n",
    "addAvgConsUsingWeekdayHour(dfAEP, 'WeekDayHour', 'Cons', 'meanCons', Rows)\n",
    "print(dfAEP.head())"
   ]
  },
  {
   "cell_type": "code",
   "execution_count": 17,
   "metadata": {},
   "outputs": [
    {
     "data": {
      "text/html": [
       "<div>\n",
       "<style scoped>\n",
       "    .dataframe tbody tr th:only-of-type {\n",
       "        vertical-align: middle;\n",
       "    }\n",
       "\n",
       "    .dataframe tbody tr th {\n",
       "        vertical-align: top;\n",
       "    }\n",
       "\n",
       "    .dataframe thead th {\n",
       "        text-align: right;\n",
       "    }\n",
       "</style>\n",
       "<table border=\"1\" class=\"dataframe\">\n",
       "  <thead>\n",
       "    <tr style=\"text-align: right;\">\n",
       "      <th></th>\n",
       "      <th>Cons</th>\n",
       "      <th>WeekDayHour</th>\n",
       "      <th>meanCons</th>\n",
       "      <th>logdiffConsAndMeanCons</th>\n",
       "    </tr>\n",
       "    <tr>\n",
       "      <th>Datetime</th>\n",
       "      <th></th>\n",
       "      <th></th>\n",
       "      <th></th>\n",
       "      <th></th>\n",
       "    </tr>\n",
       "  </thead>\n",
       "  <tbody>\n",
       "    <tr>\n",
       "      <th>2004-10-01 01:00:00</th>\n",
       "      <td>12379.0</td>\n",
       "      <td>4_01</td>\n",
       "      <td>14338.4</td>\n",
       "      <td>-0.146940</td>\n",
       "    </tr>\n",
       "    <tr>\n",
       "      <th>2004-10-01 02:00:00</th>\n",
       "      <td>11935.0</td>\n",
       "      <td>4_02</td>\n",
       "      <td>13787.9</td>\n",
       "      <td>-0.144316</td>\n",
       "    </tr>\n",
       "    <tr>\n",
       "      <th>2004-10-01 03:00:00</th>\n",
       "      <td>11692.0</td>\n",
       "      <td>4_03</td>\n",
       "      <td>13486.3</td>\n",
       "      <td>-0.142770</td>\n",
       "    </tr>\n",
       "    <tr>\n",
       "      <th>2004-10-01 04:00:00</th>\n",
       "      <td>11597.0</td>\n",
       "      <td>4_04</td>\n",
       "      <td>13369.5</td>\n",
       "      <td>-0.142230</td>\n",
       "    </tr>\n",
       "    <tr>\n",
       "      <th>2004-10-01 05:00:00</th>\n",
       "      <td>11681.0</td>\n",
       "      <td>4_05</td>\n",
       "      <td>13513.9</td>\n",
       "      <td>-0.145755</td>\n",
       "    </tr>\n",
       "  </tbody>\n",
       "</table>\n",
       "</div>"
      ],
      "text/plain": [
       "                        Cons WeekDayHour  meanCons  logdiffConsAndMeanCons\n",
       "Datetime                                                                  \n",
       "2004-10-01 01:00:00  12379.0        4_01   14338.4               -0.146940\n",
       "2004-10-01 02:00:00  11935.0        4_02   13787.9               -0.144316\n",
       "2004-10-01 03:00:00  11692.0        4_03   13486.3               -0.142770\n",
       "2004-10-01 04:00:00  11597.0        4_04   13369.5               -0.142230\n",
       "2004-10-01 05:00:00  11681.0        4_05   13513.9               -0.145755"
      ]
     },
     "execution_count": 17,
     "metadata": {},
     "output_type": "execute_result"
    }
   ],
   "source": [
    "#Creating a function to standardize the target column.\n",
    "def addStandardizedColumn(dataFrame, sourceCol, meanCol, targetCol):\n",
    "    dataFrame[targetCol] = (np.log(dataFrame.loc[:, sourceCol]) - np.log(dataFrame.loc[:, meanCol]))\n",
    "    \n",
    "addStandardizedColumn(dfAEP, 'Cons', 'meanCons', 'logdiffConsAndMeanCons')\n",
    "\n",
    "(dfAEP.head())"
   ]
  },
  {
   "cell_type": "code",
   "execution_count": 19,
   "metadata": {},
   "outputs": [],
   "source": [
    "#########################"
   ]
  },
  {
   "cell_type": "code",
   "execution_count": 20,
   "metadata": {},
   "outputs": [
    {
     "data": {
      "text/html": [
       "<div>\n",
       "<style scoped>\n",
       "    .dataframe tbody tr th:only-of-type {\n",
       "        vertical-align: middle;\n",
       "    }\n",
       "\n",
       "    .dataframe tbody tr th {\n",
       "        vertical-align: top;\n",
       "    }\n",
       "\n",
       "    .dataframe thead th {\n",
       "        text-align: right;\n",
       "    }\n",
       "</style>\n",
       "<table border=\"1\" class=\"dataframe\">\n",
       "  <thead>\n",
       "    <tr style=\"text-align: right;\">\n",
       "      <th></th>\n",
       "      <th>Cons</th>\n",
       "      <th>WeekDayHour</th>\n",
       "      <th>meanCons</th>\n",
       "      <th>logdiffConsAndMeanCons</th>\n",
       "      <th>reversed</th>\n",
       "    </tr>\n",
       "    <tr>\n",
       "      <th>Datetime</th>\n",
       "      <th></th>\n",
       "      <th></th>\n",
       "      <th></th>\n",
       "      <th></th>\n",
       "      <th></th>\n",
       "    </tr>\n",
       "  </thead>\n",
       "  <tbody>\n",
       "    <tr>\n",
       "      <th>2004-10-01 01:00:00</th>\n",
       "      <td>12379.0</td>\n",
       "      <td>4_01</td>\n",
       "      <td>14338.4</td>\n",
       "      <td>-0.146940</td>\n",
       "      <td>12379.0</td>\n",
       "    </tr>\n",
       "    <tr>\n",
       "      <th>2004-10-01 02:00:00</th>\n",
       "      <td>11935.0</td>\n",
       "      <td>4_02</td>\n",
       "      <td>13787.9</td>\n",
       "      <td>-0.144316</td>\n",
       "      <td>11935.0</td>\n",
       "    </tr>\n",
       "    <tr>\n",
       "      <th>2004-10-01 03:00:00</th>\n",
       "      <td>11692.0</td>\n",
       "      <td>4_03</td>\n",
       "      <td>13486.3</td>\n",
       "      <td>-0.142770</td>\n",
       "      <td>11692.0</td>\n",
       "    </tr>\n",
       "    <tr>\n",
       "      <th>2004-10-01 04:00:00</th>\n",
       "      <td>11597.0</td>\n",
       "      <td>4_04</td>\n",
       "      <td>13369.5</td>\n",
       "      <td>-0.142230</td>\n",
       "      <td>11597.0</td>\n",
       "    </tr>\n",
       "    <tr>\n",
       "      <th>2004-10-01 05:00:00</th>\n",
       "      <td>11681.0</td>\n",
       "      <td>4_05</td>\n",
       "      <td>13513.9</td>\n",
       "      <td>-0.145755</td>\n",
       "      <td>11681.0</td>\n",
       "    </tr>\n",
       "  </tbody>\n",
       "</table>\n",
       "</div>"
      ],
      "text/plain": [
       "                        Cons WeekDayHour  meanCons  logdiffConsAndMeanCons  \\\n",
       "Datetime                                                                     \n",
       "2004-10-01 01:00:00  12379.0        4_01   14338.4               -0.146940   \n",
       "2004-10-01 02:00:00  11935.0        4_02   13787.9               -0.144316   \n",
       "2004-10-01 03:00:00  11692.0        4_03   13486.3               -0.142770   \n",
       "2004-10-01 04:00:00  11597.0        4_04   13369.5               -0.142230   \n",
       "2004-10-01 05:00:00  11681.0        4_05   13513.9               -0.145755   \n",
       "\n",
       "                     reversed  \n",
       "Datetime                       \n",
       "2004-10-01 01:00:00   12379.0  \n",
       "2004-10-01 02:00:00   11935.0  \n",
       "2004-10-01 03:00:00   11692.0  \n",
       "2004-10-01 04:00:00   11597.0  \n",
       "2004-10-01 05:00:00   11681.0  "
      ]
     },
     "execution_count": 20,
     "metadata": {},
     "output_type": "execute_result"
    }
   ],
   "source": [
    "def reverseStandardizedColumn(dataFrame, sourceCol, meanCol, targetCol):\n",
    "    #dataFrame[targetCol] = np.exp((dataFrame.loc[:, sourceCol]) + np.log(dataFrame.loc[:, meanCol]))\n",
    "    dataFrame[targetCol] = np.exp((dataFrame.loc[:, sourceCol]) + np.log(dataFrame.loc[:, meanCol]))\n",
    "    \n",
    "reverseStandardizedColumn(dataFrame=dfAEP, sourceCol='logdiffConsAndMeanCons', meanCol='meanCons', targetCol='reversed')\n",
    "dfAEP.head()"
   ]
  },
  {
   "cell_type": "code",
   "execution_count": 24,
   "metadata": {},
   "outputs": [],
   "source": [
    "##################"
   ]
  },
  {
   "cell_type": "code",
   "execution_count": 25,
   "metadata": {},
   "outputs": [],
   "source": [
    "#TODO: add param for range(0, numElements-totalSeqLen+1, 1). 1 should be configurable.\n",
    "\n",
    "def generateMultiStepModelInput(dataFrame, totalSeqLen, ySeqLen, col):\n",
    "    '''\n",
    "    Generates X and Y sets from dataframe's column.\n",
    "    \n",
    "    Args:\n",
    "        dataFrame: Data Frame to look at.\n",
    "        totalSeqLen: The predictor and response variables sequence length combined.\n",
    "        ySeqLen: The response variable sequence lengt.\n",
    "        col: The column to look at.\n",
    "        \n",
    "    Returns:\n",
    "        2 lists: 1st X list with the dimensions of: ((df total rows-totalSeqLen+1), \n",
    "                                                            totalSeqLen-ySeqLen, \n",
    "                                                            1)\n",
    "                 2nd Y list with the dimensions of: ((df total rows-totalSeqLen+1),\n",
    "                                                        ySeqLen)\n",
    "\n",
    "    Revision:\n",
    "        June 06, 2020 created (Edgar Khachatryan)\n",
    "    '''\n",
    "    dataMatrix = dataFrame[col]\n",
    "    numElements = dataMatrix.shape[0]\n",
    "    \n",
    "    indices = dataFrame.index.values\n",
    "\n",
    "    for _, stop in zip(range(0, numElements-totalSeqLen+1, 1), \n",
    "                       range(totalSeqLen, numElements+1, 1)):\n",
    "        \n",
    "        yield dataMatrix[(stop-totalSeqLen):stop-ySeqLen].values.reshape((-1,len(col))), \\\n",
    "              dataMatrix[stop-ySeqLen:stop].values.reshape((-1))\n",
    "\n",
    "#Getting the indices.\n",
    "def getIndexOfY(dataFrame, totalSeqLen, ySeqLen):\n",
    "    pass"
   ]
  },
  {
   "cell_type": "code",
   "execution_count": 26,
   "metadata": {},
   "outputs": [
    {
     "data": {
      "text/plain": [
       "Timestamp('2004-10-08 01:00:00')"
      ]
     },
     "execution_count": 26,
     "metadata": {},
     "output_type": "execute_result"
    }
   ],
   "source": [
    "sequenceLength = 7*24\n",
    "dfAEP.index[sequenceLength]"
   ]
  },
  {
   "cell_type": "code",
   "execution_count": 29,
   "metadata": {},
   "outputs": [],
   "source": [
    "X, Y = [], []\n",
    "totalSequenceLength = 5*7*24 #Total 5 weeks,use 4 weeks data to forecast 1 week foreward.\n",
    "ySequenceLength = 7*24\n",
    "\n",
    "\n",
    "for i in generateMultiStepModelInput(dfAEP, totalSequenceLength, ySequenceLength, ['logdiffConsAndMeanCons']):\n",
    "    x, y = i\n",
    "    X.append(x)\n",
    "    Y.append(y)\n",
    "X = np.asarray(X)\n",
    "Y = np.asarray(Y)"
   ]
  },
  {
   "cell_type": "code",
   "execution_count": 30,
   "metadata": {},
   "outputs": [
    {
     "name": "stdout",
     "output_type": "stream",
     "text": [
      "(120434, 672, 1) (120434, 168)\n"
     ]
    }
   ],
   "source": [
    "print(X.shape, Y.shape)"
   ]
  },
  {
   "cell_type": "code",
   "execution_count": 31,
   "metadata": {},
   "outputs": [],
   "source": [
    "losses = [lambda y,f: K.mean(K.maximum(0.1*(y-f), (0.1-1)*(y-f)), axis=-1), \n",
    "         lambda y,f: K.mean(K.maximum(0.5*(y-f), (0.5-1)*(y-f)), axis=-1), \n",
    "         lambda y,f: K.mean(K.maximum(0.9*(y-f), (0.9-1)*(y-f)), axis=-1)]"
   ]
  },
  {
   "cell_type": "markdown",
   "metadata": {},
   "source": [
    "# SECOND version."
   ]
  },
  {
   "cell_type": "code",
   "execution_count": null,
   "metadata": {},
   "outputs": [],
   "source": [
    "#Model uses 4 weeks of data (672 hours) to predict next 7 days (168 hours) of consumption."
   ]
  },
  {
   "cell_type": "code",
   "execution_count": 55,
   "metadata": {},
   "outputs": [],
   "source": [
    "trainLength = 168*52\n",
    "X_Train, y_Train = X[0:trainLength], Y[0:trainLength]"
   ]
  },
  {
   "cell_type": "code",
   "execution_count": 47,
   "metadata": {},
   "outputs": [],
   "source": [
    "X_Test, y_Test = X[trainLength:2*trainLength], Y[trainLength:2*trainLength]"
   ]
  },
  {
   "cell_type": "code",
   "execution_count": 451,
   "metadata": {},
   "outputs": [
    {
     "name": "stdout",
     "output_type": "stream",
     "text": [
      "The input shape of data is 8736, 672 and 1. \n",
      "The output shape is 8736, 168.\n"
     ]
    }
   ],
   "source": [
    "print(\"The input shape of data is {}, {} and {}. \\nThe output shape is {}, {}.\".format(X_Train.shape[0], X_Train.shape[1], X_Train.shape[2],  y_Train.shape[0], y_Train.shape[1]))"
   ]
  },
  {
   "cell_type": "code",
   "execution_count": 43,
   "metadata": {},
   "outputs": [
    {
     "name": "stdout",
     "output_type": "stream",
     "text": [
      "__________________________________________________________________________________________________\n",
      "Layer (type)                    Output Shape         Param #     Connected to                     \n",
      "==================================================================================================\n",
      "input_2 (InputLayer)            (None, 672, 1)       0                                            \n",
      "__________________________________________________________________________________________________\n",
      "bidirectional_3 (Bidirectional) (None, 672, 64)      8704        input_2[0][0]                    \n",
      "__________________________________________________________________________________________________\n",
      "bidirectional_4 (Bidirectional) (None, 32)           10368       bidirectional_3[0][0]            \n",
      "__________________________________________________________________________________________________\n",
      "dense_5 (Dense)                 (None, 50)           1650        bidirectional_4[0][0]            \n",
      "__________________________________________________________________________________________________\n",
      "dense_6 (Dense)                 (None, 168)          8568        dense_5[0][0]                    \n",
      "__________________________________________________________________________________________________\n",
      "dense_7 (Dense)                 (None, 168)          8568        dense_5[0][0]                    \n",
      "__________________________________________________________________________________________________\n",
      "dense_8 (Dense)                 (None, 168)          8568        dense_5[0][0]                    \n",
      "==================================================================================================\n",
      "Total params: 46,426\n",
      "Trainable params: 46,426\n",
      "Non-trainable params: 0\n",
      "__________________________________________________________________________________________________\n"
     ]
    }
   ],
   "source": [
    "inputs = Input(shape=(X_Train.shape[1], X_Train.shape[2]))\n",
    "lstm = Bidirectional(LSTM(32, return_sequences=True, dropout=0.3))(inputs, training = True)\n",
    "lstm = Bidirectional(LSTM(16, return_sequences=False, dropout=0.3))(lstm, training = True)\n",
    "\n",
    "dense = Dense(50)(lstm)\n",
    "\n",
    "out10 = Dense(y_Train.shape[1])(dense)\n",
    "out50 = Dense(y_Train.shape[1])(dense)\n",
    "out90 = Dense(y_Train.shape[1])(dense)\n",
    "\n",
    "model = Model(inputs, [out10,out50,out90])\n",
    "\n",
    "model.compile(loss=losses, optimizer='adam', loss_weights = [0.3,0.3,0.3])\n",
    "model.summary()"
   ]
  },
  {
   "cell_type": "code",
   "execution_count": null,
   "metadata": {},
   "outputs": [],
   "source": [
    "#Train model or load pretrained model for 30 epochs(4.3 hours training.)"
   ]
  },
  {
   "cell_type": "code",
   "execution_count": 44,
   "metadata": {},
   "outputs": [
    {
     "name": "stdout",
     "output_type": "stream",
     "text": [
      "Epoch 1/30\n",
      " - 248s - loss: 0.0398 - dense_6_loss: 0.0437 - dense_7_loss: 0.0481 - dense_8_loss: 0.0408\n",
      "Epoch 2/30\n",
      " - 305s - loss: 0.0282 - dense_6_loss: 0.0241 - dense_7_loss: 0.0450 - dense_8_loss: 0.0249\n",
      "Epoch 3/30\n",
      " - 282s - loss: 0.0228 - dense_6_loss: 0.0167 - dense_7_loss: 0.0396 - dense_8_loss: 0.0197\n",
      "Epoch 4/30\n",
      " - 316s - loss: 0.0217 - dense_6_loss: 0.0154 - dense_7_loss: 0.0385 - dense_8_loss: 0.0186\n",
      "Epoch 5/30\n",
      " - 288s - loss: 0.0214 - dense_6_loss: 0.0150 - dense_7_loss: 0.0380 - dense_8_loss: 0.0182\n",
      "Epoch 6/30\n",
      " - 350s - loss: 0.0213 - dense_6_loss: 0.0149 - dense_7_loss: 0.0379 - dense_8_loss: 0.0182\n",
      "Epoch 7/30\n",
      " - 338s - loss: 0.0213 - dense_6_loss: 0.0149 - dense_7_loss: 0.0379 - dense_8_loss: 0.0181\n",
      "Epoch 8/30\n",
      " - 342s - loss: 0.0212 - dense_6_loss: 0.0148 - dense_7_loss: 0.0376 - dense_8_loss: 0.0181\n",
      "Epoch 9/30\n",
      " - 366s - loss: 0.0212 - dense_6_loss: 0.0149 - dense_7_loss: 0.0376 - dense_8_loss: 0.0180\n",
      "Epoch 10/30\n",
      " - 366s - loss: 0.0211 - dense_6_loss: 0.0148 - dense_7_loss: 0.0374 - dense_8_loss: 0.0180\n",
      "Epoch 11/30\n",
      " - 390s - loss: 0.0210 - dense_6_loss: 0.0148 - dense_7_loss: 0.0373 - dense_8_loss: 0.0179\n",
      "Epoch 12/30\n",
      " - 383s - loss: 0.0208 - dense_6_loss: 0.0148 - dense_7_loss: 0.0368 - dense_8_loss: 0.0178\n",
      "Epoch 13/30\n",
      " - 446s - loss: 0.0207 - dense_6_loss: 0.0148 - dense_7_loss: 0.0364 - dense_8_loss: 0.0176\n",
      "Epoch 14/30\n",
      " - 581s - loss: 0.0203 - dense_6_loss: 0.0147 - dense_7_loss: 0.0357 - dense_8_loss: 0.0174\n",
      "Epoch 15/30\n",
      " - 523s - loss: 0.0200 - dense_6_loss: 0.0145 - dense_7_loss: 0.0351 - dense_8_loss: 0.0170\n",
      "Epoch 16/30\n",
      " - 457s - loss: 0.0197 - dense_6_loss: 0.0143 - dense_7_loss: 0.0348 - dense_8_loss: 0.0167\n",
      "Epoch 17/30\n",
      " - 446s - loss: 0.0197 - dense_6_loss: 0.0143 - dense_7_loss: 0.0347 - dense_8_loss: 0.0166\n",
      "Epoch 18/30\n",
      " - 455s - loss: 0.0195 - dense_6_loss: 0.0141 - dense_7_loss: 0.0343 - dense_8_loss: 0.0164\n",
      "Epoch 19/30\n",
      " - 474s - loss: 0.0193 - dense_6_loss: 0.0140 - dense_7_loss: 0.0340 - dense_8_loss: 0.0162\n",
      "Epoch 20/30\n",
      " - 610s - loss: 0.0191 - dense_6_loss: 0.0138 - dense_7_loss: 0.0338 - dense_8_loss: 0.0161\n",
      "Epoch 21/30\n",
      " - 723s - loss: 0.0188 - dense_6_loss: 0.0136 - dense_7_loss: 0.0333 - dense_8_loss: 0.0158\n",
      "Epoch 22/30\n",
      " - 811s - loss: 0.0187 - dense_6_loss: 0.0136 - dense_7_loss: 0.0331 - dense_8_loss: 0.0157\n",
      "Epoch 23/30\n",
      " - 753s - loss: 0.0185 - dense_6_loss: 0.0135 - dense_7_loss: 0.0328 - dense_8_loss: 0.0154\n",
      "Epoch 24/30\n",
      " - 766s - loss: 0.0183 - dense_6_loss: 0.0133 - dense_7_loss: 0.0324 - dense_8_loss: 0.0152\n",
      "Epoch 25/30\n",
      " - 705s - loss: 0.0182 - dense_6_loss: 0.0133 - dense_7_loss: 0.0322 - dense_8_loss: 0.0151\n",
      "Epoch 26/30\n",
      " - 757s - loss: 0.0181 - dense_6_loss: 0.0133 - dense_7_loss: 0.0321 - dense_8_loss: 0.0150\n",
      "Epoch 27/30\n",
      " - 1096s - loss: 0.0181 - dense_6_loss: 0.0132 - dense_7_loss: 0.0320 - dense_8_loss: 0.0149\n",
      "Epoch 28/30\n",
      " - 816s - loss: 0.0180 - dense_6_loss: 0.0132 - dense_7_loss: 0.0319 - dense_8_loss: 0.0149\n",
      "Epoch 29/30\n",
      " - 597s - loss: 0.0179 - dense_6_loss: 0.0132 - dense_7_loss: 0.0318 - dense_8_loss: 0.0149\n",
      "Epoch 30/30\n",
      " - 517s - loss: 0.0179 - dense_6_loss: 0.0132 - dense_7_loss: 0.0317 - dense_8_loss: 0.0149\n"
     ]
    }
   ],
   "source": [
    "history = model.fit(X_Train, [y_Train, y_Train, y_Train], epochs=30, batch_size=548, verbose=2, shuffle=True)"
   ]
  },
  {
   "cell_type": "code",
   "execution_count": 439,
   "metadata": {},
   "outputs": [
    {
     "name": "stdout",
     "output_type": "stream",
     "text": [
      "C:\\DATA\\DATA\\ANN_python\\Projects_to_Investigate\\HEC\\Models\n"
     ]
    }
   ],
   "source": [
    "# Change working directory to ../Models.\n",
    "modelPath = CreatePathName(os.pardir, 'Models')\n",
    "os.chdir(modelPath)\n",
    "print(os.getcwd())"
   ]
  },
  {
   "cell_type": "code",
   "execution_count": 442,
   "metadata": {},
   "outputs": [],
   "source": [
    "# Load model from .json file.\n",
    "LSTMModelFile = open(\"LSTMModel.json\", \"r\")\n",
    "modelReader = LSTMModelFile.read()\n",
    "LSTMModelFile.close()\n",
    "model = model_from_json(modelReader)\n",
    "\n",
    "# Load weights to the loadedModel from .hdf5 file\n",
    "model.load_weights(\"LSTMModelWeights.h5\")"
   ]
  },
  {
   "cell_type": "code",
   "execution_count": 440,
   "metadata": {},
   "outputs": [],
   "source": [
    "# # Save model to .json format.\n",
    "# modelSaveJson = model.to_json()\n",
    "# with open(\"LSTMModel.json\", \"w\") as json:\n",
    "#     json.write(modelSaveJson)\n",
    "\n",
    "# # Save weights to HDF5\n",
    "# model.save_weights(\"LSTMModelWeights.h5\")"
   ]
  },
  {
   "cell_type": "code",
   "execution_count": 74,
   "metadata": {},
   "outputs": [
    {
     "data": {
      "application/vnd.jupyter.widget-view+json": {
       "model_id": "2dc5cbaa7c164c66855025f0f6e8a216",
       "version_major": 2,
       "version_minor": 0
      },
      "text/plain": [
       "HBox(children=(IntProgress(value=0), HTML(value='')))"
      ]
     },
     "metadata": {},
     "output_type": "display_data"
    },
    {
     "name": "stdout",
     "output_type": "stream",
     "text": [
      "\n"
     ]
    }
   ],
   "source": [
    "###LOADED MODEL QUANTILEs BOOTSTRAPPING ###\n",
    "#1 prediction.\n",
    "yHat10, yHat, yHat90 = [], [], []\n",
    "NN = K.function([model.layers[0].input, K.learning_phase()], \n",
    "                [model.layers[-3].output,model.layers[-2].output,model.layers[-1].output])\n",
    "\n",
    "for i in tqdm_notebook(range(0,100)):\n",
    "    predd = NN([X_Test[0:100], 0.5])\n",
    "    yHat10.append(predd[0])\n",
    "    yHat.append(predd[1])\n",
    "    yHat90.append(predd[2])\n",
    "    \n",
    "yHat10 = np.quantile(yHat10, 0.1, axis=0)\n",
    "yHat = np.asarray(yHat).mean(axis=0)\n",
    "yHat90 = np.quantile(yHat90, 0.9, axis=0)"
   ]
  },
  {
   "cell_type": "code",
   "execution_count": 268,
   "metadata": {},
   "outputs": [],
   "source": [
    "def reverseStandardizedValue(YTestRowIndex, YTestColIndex, \n",
    "                             XTrainShape0, XTrainShape1,\n",
    "                             sourceDF, meanCol, souceVal):\n",
    "    '''\n",
    "    YTestRowIndex, YTestColIndex: Index of row and column, by 1 less than XTrainShape0, XTrainShape1.\n",
    "    '''\n",
    "    meanVal = sourceDF.loc[ sourceDF.index[ YTestRowIndex + YTestColIndex\n",
    "                                           + XTrainShape0 + XTrainShape1 ],\n",
    "                            meanCol ]\n",
    "    \n",
    "    return np.exp(souceVal + np.log(meanVal))\n",
    "\n",
    "def returnRowIndex(YTestRowIndex, YTestColIndex, \n",
    "                   XTrainShape0, XTrainShape1,\n",
    "                   sourceDF):\n",
    "    index = sourceDF.index[ YTestRowIndex + YTestColIndex\n",
    "                          + XTrainShape0 + XTrainShape1 \n",
    "                          ]\n",
    "    return index\n",
    "\n",
    "# Returns row index from df.\n",
    "# for i in range(Y.shape[0]):\n",
    "#     for j in range(Y.shape[1]):\n",
    "#         print(returnRowIndex(i, j, X.shape[1], dfAEP))\n",
    "\n",
    "# Returns row index from df.\n",
    "# for i in range(Y.shape[0]):\n",
    "#     for j in range(Y.shape[1]):\n",
    "#         print(reverseStandardizedValue(i, j, X.shape[1], dfAEP, 'meanCons', Y[i,j]))"
   ]
  },
  {
   "cell_type": "code",
   "execution_count": 337,
   "metadata": {},
   "outputs": [
    {
     "data": {
      "text/plain": [
       "16782.252693412447"
      ]
     },
     "execution_count": 337,
     "metadata": {},
     "output_type": "execute_result"
    }
   ],
   "source": [
    "#yHat\n",
    "reverseStandardizedValue(0, \n",
    "                         100, \n",
    "                         X_Train.shape[0], \n",
    "                         X_Train.shape[1],  \n",
    "                         dfAEP, \n",
    "                         'meanCons', \n",
    "                         yHat[0][100])"
   ]
  },
  {
   "cell_type": "code",
   "execution_count": 338,
   "metadata": {},
   "outputs": [
    {
     "data": {
      "text/plain": [
       "16550.000000000004"
      ]
     },
     "execution_count": 338,
     "metadata": {},
     "output_type": "execute_result"
    }
   ],
   "source": [
    "reverseStandardizedValue(0, \n",
    "                         100, \n",
    "                         X_Train.shape[0], \n",
    "                         X_Train.shape[1],  \n",
    "                         dfAEP, \n",
    "                         'meanCons', \n",
    "                         y_Test[0][100])"
   ]
  },
  {
   "cell_type": "code",
   "execution_count": 311,
   "metadata": {},
   "outputs": [],
   "source": [
    "predictions = []\n",
    "for i in range(1):\n",
    "    for j in range(yHat.shape[1]):\n",
    "        predictions.append(reverseStandardizedValue(i, \n",
    "                         j, \n",
    "                         X_Train.shape[0], \n",
    "                         X_Train.shape[1],  \n",
    "                         dfAEP, \n",
    "                         'meanCons', \n",
    "                         yHat[i][j]))\n",
    "predictions = np.asarray(predictions)"
   ]
  },
  {
   "cell_type": "code",
   "execution_count": 312,
   "metadata": {},
   "outputs": [],
   "source": [
    "actual = []\n",
    "for i in range(1):\n",
    "    for j in range(y_Test.shape[1]):\n",
    "        actual.append(reverseStandardizedValue(i, \n",
    "                         j, \n",
    "                         X_Train.shape[0], \n",
    "                         X_Train.shape[1],  \n",
    "                         dfAEP, \n",
    "                         'meanCons', \n",
    "                         y_Test[i][j]))\n",
    "actual = np.asarray(actual)"
   ]
  },
  {
   "cell_type": "code",
   "execution_count": 346,
   "metadata": {},
   "outputs": [],
   "source": [
    "# Retriveing the actual consumption data for the predicted period from dataframe.\n",
    "predStartIndex = returnRowIndex(0, 0, X_Train.shape[0], X_Train.shape[1], dfAEP)\n",
    "predEndIndex = returnRowIndex(yHat.shape[0]-1, yHat.shape[1]-1, X_Train.shape[0], X_Train.shape[1], dfAEP)\n",
    "actual = dfAEP.loc[predStartIndex:predEndIndex, 'Cons'].values"
   ]
  },
  {
   "cell_type": "code",
   "execution_count": 390,
   "metadata": {},
   "outputs": [],
   "source": []
  },
  {
   "cell_type": "code",
   "execution_count": null,
   "metadata": {},
   "outputs": [],
   "source": [
    "#############PLotting experiment"
   ]
  },
  {
   "cell_type": "code",
   "execution_count": null,
   "metadata": {},
   "outputs": [],
   "source": []
  },
  {
   "cell_type": "code",
   "execution_count": 365,
   "metadata": {},
   "outputs": [],
   "source": [
    "import matplotlib.pyplot as plt"
   ]
  },
  {
   "cell_type": "code",
   "execution_count": 417,
   "metadata": {},
   "outputs": [],
   "source": [
    "#t = np.asarray([returnRowIndex(0, k, X_Train.shape[0], X_Train.shape[1], dfAEP) for k in range(yHat.shape[1])])\n",
    "#alternative t\n",
    "t = np.linspace(0,200)\n",
    "x = np.asarray([reverseStandardizedValue(0, k, X_Train.shape[0], X_Train.shape[1], dfAEP, 'meanCons', yHat[0][k]) for k in range(yHat.shape[1])])"
   ]
  },
  {
   "cell_type": "code",
   "execution_count": 414,
   "metadata": {},
   "outputs": [
    {
     "data": {
      "text/plain": [
       "(168,)"
      ]
     },
     "execution_count": 414,
     "metadata": {},
     "output_type": "execute_result"
    }
   ],
   "source": [
    "x.shape"
   ]
  },
  {
   "cell_type": "code",
   "execution_count": 415,
   "metadata": {},
   "outputs": [
    {
     "data": {
      "text/plain": [
       "[0, 168]"
      ]
     },
     "execution_count": 415,
     "metadata": {},
     "output_type": "execute_result"
    }
   ],
   "source": [
    "f = lambda x: x * x"
   ]
  },
  {
   "cell_type": "code",
   "execution_count": null,
   "metadata": {},
   "outputs": [],
   "source": [
    "def f(x):\n",
    "    return x * x"
   ]
  },
  {
   "cell_type": "code",
   "execution_count": 430,
   "metadata": {},
   "outputs": [
    {
     "ename": "SyntaxError",
     "evalue": "invalid syntax (<ipython-input-430-080720c1d983>, line 1)",
     "output_type": "error",
     "traceback": [
      "\u001b[1;36m  File \u001b[1;32m\"<ipython-input-430-080720c1d983>\"\u001b[1;36m, line \u001b[1;32m1\u001b[0m\n\u001b[1;33m    def l,(i):\u001b[0m\n\u001b[1;37m         ^\u001b[0m\n\u001b[1;31mSyntaxError\u001b[0m\u001b[1;31m:\u001b[0m invalid syntax\n"
     ]
    }
   ],
   "source": [
    "def l,(i):\n",
    "    l.set_data(t[:i], x[:i])\n",
    "    return l"
   ]
  },
  {
   "cell_type": "code",
   "execution_count": 445,
   "metadata": {},
   "outputs": [
    {
     "data": {
      "application/javascript": [
       "/* Put everything inside the global mpl namespace */\n",
       "window.mpl = {};\n",
       "\n",
       "\n",
       "mpl.get_websocket_type = function() {\n",
       "    if (typeof(WebSocket) !== 'undefined') {\n",
       "        return WebSocket;\n",
       "    } else if (typeof(MozWebSocket) !== 'undefined') {\n",
       "        return MozWebSocket;\n",
       "    } else {\n",
       "        alert('Your browser does not have WebSocket support. ' +\n",
       "              'Please try Chrome, Safari or Firefox ≥ 6. ' +\n",
       "              'Firefox 4 and 5 are also supported but you ' +\n",
       "              'have to enable WebSockets in about:config.');\n",
       "    };\n",
       "}\n",
       "\n",
       "mpl.figure = function(figure_id, websocket, ondownload, parent_element) {\n",
       "    this.id = figure_id;\n",
       "\n",
       "    this.ws = websocket;\n",
       "\n",
       "    this.supports_binary = (this.ws.binaryType != undefined);\n",
       "\n",
       "    if (!this.supports_binary) {\n",
       "        var warnings = document.getElementById(\"mpl-warnings\");\n",
       "        if (warnings) {\n",
       "            warnings.style.display = 'block';\n",
       "            warnings.textContent = (\n",
       "                \"This browser does not support binary websocket messages. \" +\n",
       "                    \"Performance may be slow.\");\n",
       "        }\n",
       "    }\n",
       "\n",
       "    this.imageObj = new Image();\n",
       "\n",
       "    this.context = undefined;\n",
       "    this.message = undefined;\n",
       "    this.canvas = undefined;\n",
       "    this.rubberband_canvas = undefined;\n",
       "    this.rubberband_context = undefined;\n",
       "    this.format_dropdown = undefined;\n",
       "\n",
       "    this.image_mode = 'full';\n",
       "\n",
       "    this.root = $('<div/>');\n",
       "    this._root_extra_style(this.root)\n",
       "    this.root.attr('style', 'display: inline-block');\n",
       "\n",
       "    $(parent_element).append(this.root);\n",
       "\n",
       "    this._init_header(this);\n",
       "    this._init_canvas(this);\n",
       "    this._init_toolbar(this);\n",
       "\n",
       "    var fig = this;\n",
       "\n",
       "    this.waiting = false;\n",
       "\n",
       "    this.ws.onopen =  function () {\n",
       "            fig.send_message(\"supports_binary\", {value: fig.supports_binary});\n",
       "            fig.send_message(\"send_image_mode\", {});\n",
       "            if (mpl.ratio != 1) {\n",
       "                fig.send_message(\"set_dpi_ratio\", {'dpi_ratio': mpl.ratio});\n",
       "            }\n",
       "            fig.send_message(\"refresh\", {});\n",
       "        }\n",
       "\n",
       "    this.imageObj.onload = function() {\n",
       "            if (fig.image_mode == 'full') {\n",
       "                // Full images could contain transparency (where diff images\n",
       "                // almost always do), so we need to clear the canvas so that\n",
       "                // there is no ghosting.\n",
       "                fig.context.clearRect(0, 0, fig.canvas.width, fig.canvas.height);\n",
       "            }\n",
       "            fig.context.drawImage(fig.imageObj, 0, 0);\n",
       "        };\n",
       "\n",
       "    this.imageObj.onunload = function() {\n",
       "        fig.ws.close();\n",
       "    }\n",
       "\n",
       "    this.ws.onmessage = this._make_on_message_function(this);\n",
       "\n",
       "    this.ondownload = ondownload;\n",
       "}\n",
       "\n",
       "mpl.figure.prototype._init_header = function() {\n",
       "    var titlebar = $(\n",
       "        '<div class=\"ui-dialog-titlebar ui-widget-header ui-corner-all ' +\n",
       "        'ui-helper-clearfix\"/>');\n",
       "    var titletext = $(\n",
       "        '<div class=\"ui-dialog-title\" style=\"width: 100%; ' +\n",
       "        'text-align: center; padding: 3px;\"/>');\n",
       "    titlebar.append(titletext)\n",
       "    this.root.append(titlebar);\n",
       "    this.header = titletext[0];\n",
       "}\n",
       "\n",
       "\n",
       "\n",
       "mpl.figure.prototype._canvas_extra_style = function(canvas_div) {\n",
       "\n",
       "}\n",
       "\n",
       "\n",
       "mpl.figure.prototype._root_extra_style = function(canvas_div) {\n",
       "\n",
       "}\n",
       "\n",
       "mpl.figure.prototype._init_canvas = function() {\n",
       "    var fig = this;\n",
       "\n",
       "    var canvas_div = $('<div/>');\n",
       "\n",
       "    canvas_div.attr('style', 'position: relative; clear: both; outline: 0');\n",
       "\n",
       "    function canvas_keyboard_event(event) {\n",
       "        return fig.key_event(event, event['data']);\n",
       "    }\n",
       "\n",
       "    canvas_div.keydown('key_press', canvas_keyboard_event);\n",
       "    canvas_div.keyup('key_release', canvas_keyboard_event);\n",
       "    this.canvas_div = canvas_div\n",
       "    this._canvas_extra_style(canvas_div)\n",
       "    this.root.append(canvas_div);\n",
       "\n",
       "    var canvas = $('<canvas/>');\n",
       "    canvas.addClass('mpl-canvas');\n",
       "    canvas.attr('style', \"left: 0; top: 0; z-index: 0; outline: 0\")\n",
       "\n",
       "    this.canvas = canvas[0];\n",
       "    this.context = canvas[0].getContext(\"2d\");\n",
       "\n",
       "    var backingStore = this.context.backingStorePixelRatio ||\n",
       "\tthis.context.webkitBackingStorePixelRatio ||\n",
       "\tthis.context.mozBackingStorePixelRatio ||\n",
       "\tthis.context.msBackingStorePixelRatio ||\n",
       "\tthis.context.oBackingStorePixelRatio ||\n",
       "\tthis.context.backingStorePixelRatio || 1;\n",
       "\n",
       "    mpl.ratio = (window.devicePixelRatio || 1) / backingStore;\n",
       "\n",
       "    var rubberband = $('<canvas/>');\n",
       "    rubberband.attr('style', \"position: absolute; left: 0; top: 0; z-index: 1;\")\n",
       "\n",
       "    var pass_mouse_events = true;\n",
       "\n",
       "    canvas_div.resizable({\n",
       "        start: function(event, ui) {\n",
       "            pass_mouse_events = false;\n",
       "        },\n",
       "        resize: function(event, ui) {\n",
       "            fig.request_resize(ui.size.width, ui.size.height);\n",
       "        },\n",
       "        stop: function(event, ui) {\n",
       "            pass_mouse_events = true;\n",
       "            fig.request_resize(ui.size.width, ui.size.height);\n",
       "        },\n",
       "    });\n",
       "\n",
       "    function mouse_event_fn(event) {\n",
       "        if (pass_mouse_events)\n",
       "            return fig.mouse_event(event, event['data']);\n",
       "    }\n",
       "\n",
       "    rubberband.mousedown('button_press', mouse_event_fn);\n",
       "    rubberband.mouseup('button_release', mouse_event_fn);\n",
       "    // Throttle sequential mouse events to 1 every 20ms.\n",
       "    rubberband.mousemove('motion_notify', mouse_event_fn);\n",
       "\n",
       "    rubberband.mouseenter('figure_enter', mouse_event_fn);\n",
       "    rubberband.mouseleave('figure_leave', mouse_event_fn);\n",
       "\n",
       "    canvas_div.on(\"wheel\", function (event) {\n",
       "        event = event.originalEvent;\n",
       "        event['data'] = 'scroll'\n",
       "        if (event.deltaY < 0) {\n",
       "            event.step = 1;\n",
       "        } else {\n",
       "            event.step = -1;\n",
       "        }\n",
       "        mouse_event_fn(event);\n",
       "    });\n",
       "\n",
       "    canvas_div.append(canvas);\n",
       "    canvas_div.append(rubberband);\n",
       "\n",
       "    this.rubberband = rubberband;\n",
       "    this.rubberband_canvas = rubberband[0];\n",
       "    this.rubberband_context = rubberband[0].getContext(\"2d\");\n",
       "    this.rubberband_context.strokeStyle = \"#000000\";\n",
       "\n",
       "    this._resize_canvas = function(width, height) {\n",
       "        // Keep the size of the canvas, canvas container, and rubber band\n",
       "        // canvas in synch.\n",
       "        canvas_div.css('width', width)\n",
       "        canvas_div.css('height', height)\n",
       "\n",
       "        canvas.attr('width', width * mpl.ratio);\n",
       "        canvas.attr('height', height * mpl.ratio);\n",
       "        canvas.attr('style', 'width: ' + width + 'px; height: ' + height + 'px;');\n",
       "\n",
       "        rubberband.attr('width', width);\n",
       "        rubberband.attr('height', height);\n",
       "    }\n",
       "\n",
       "    // Set the figure to an initial 600x600px, this will subsequently be updated\n",
       "    // upon first draw.\n",
       "    this._resize_canvas(600, 600);\n",
       "\n",
       "    // Disable right mouse context menu.\n",
       "    $(this.rubberband_canvas).bind(\"contextmenu\",function(e){\n",
       "        return false;\n",
       "    });\n",
       "\n",
       "    function set_focus () {\n",
       "        canvas.focus();\n",
       "        canvas_div.focus();\n",
       "    }\n",
       "\n",
       "    window.setTimeout(set_focus, 100);\n",
       "}\n",
       "\n",
       "mpl.figure.prototype._init_toolbar = function() {\n",
       "    var fig = this;\n",
       "\n",
       "    var nav_element = $('<div/>');\n",
       "    nav_element.attr('style', 'width: 100%');\n",
       "    this.root.append(nav_element);\n",
       "\n",
       "    // Define a callback function for later on.\n",
       "    function toolbar_event(event) {\n",
       "        return fig.toolbar_button_onclick(event['data']);\n",
       "    }\n",
       "    function toolbar_mouse_event(event) {\n",
       "        return fig.toolbar_button_onmouseover(event['data']);\n",
       "    }\n",
       "\n",
       "    for(var toolbar_ind in mpl.toolbar_items) {\n",
       "        var name = mpl.toolbar_items[toolbar_ind][0];\n",
       "        var tooltip = mpl.toolbar_items[toolbar_ind][1];\n",
       "        var image = mpl.toolbar_items[toolbar_ind][2];\n",
       "        var method_name = mpl.toolbar_items[toolbar_ind][3];\n",
       "\n",
       "        if (!name) {\n",
       "            // put a spacer in here.\n",
       "            continue;\n",
       "        }\n",
       "        var button = $('<button/>');\n",
       "        button.addClass('ui-button ui-widget ui-state-default ui-corner-all ' +\n",
       "                        'ui-button-icon-only');\n",
       "        button.attr('role', 'button');\n",
       "        button.attr('aria-disabled', 'false');\n",
       "        button.click(method_name, toolbar_event);\n",
       "        button.mouseover(tooltip, toolbar_mouse_event);\n",
       "\n",
       "        var icon_img = $('<span/>');\n",
       "        icon_img.addClass('ui-button-icon-primary ui-icon');\n",
       "        icon_img.addClass(image);\n",
       "        icon_img.addClass('ui-corner-all');\n",
       "\n",
       "        var tooltip_span = $('<span/>');\n",
       "        tooltip_span.addClass('ui-button-text');\n",
       "        tooltip_span.html(tooltip);\n",
       "\n",
       "        button.append(icon_img);\n",
       "        button.append(tooltip_span);\n",
       "\n",
       "        nav_element.append(button);\n",
       "    }\n",
       "\n",
       "    var fmt_picker_span = $('<span/>');\n",
       "\n",
       "    var fmt_picker = $('<select/>');\n",
       "    fmt_picker.addClass('mpl-toolbar-option ui-widget ui-widget-content');\n",
       "    fmt_picker_span.append(fmt_picker);\n",
       "    nav_element.append(fmt_picker_span);\n",
       "    this.format_dropdown = fmt_picker[0];\n",
       "\n",
       "    for (var ind in mpl.extensions) {\n",
       "        var fmt = mpl.extensions[ind];\n",
       "        var option = $(\n",
       "            '<option/>', {selected: fmt === mpl.default_extension}).html(fmt);\n",
       "        fmt_picker.append(option);\n",
       "    }\n",
       "\n",
       "    // Add hover states to the ui-buttons\n",
       "    $( \".ui-button\" ).hover(\n",
       "        function() { $(this).addClass(\"ui-state-hover\");},\n",
       "        function() { $(this).removeClass(\"ui-state-hover\");}\n",
       "    );\n",
       "\n",
       "    var status_bar = $('<span class=\"mpl-message\"/>');\n",
       "    nav_element.append(status_bar);\n",
       "    this.message = status_bar[0];\n",
       "}\n",
       "\n",
       "mpl.figure.prototype.request_resize = function(x_pixels, y_pixels) {\n",
       "    // Request matplotlib to resize the figure. Matplotlib will then trigger a resize in the client,\n",
       "    // which will in turn request a refresh of the image.\n",
       "    this.send_message('resize', {'width': x_pixels, 'height': y_pixels});\n",
       "}\n",
       "\n",
       "mpl.figure.prototype.send_message = function(type, properties) {\n",
       "    properties['type'] = type;\n",
       "    properties['figure_id'] = this.id;\n",
       "    this.ws.send(JSON.stringify(properties));\n",
       "}\n",
       "\n",
       "mpl.figure.prototype.send_draw_message = function() {\n",
       "    if (!this.waiting) {\n",
       "        this.waiting = true;\n",
       "        this.ws.send(JSON.stringify({type: \"draw\", figure_id: this.id}));\n",
       "    }\n",
       "}\n",
       "\n",
       "\n",
       "mpl.figure.prototype.handle_save = function(fig, msg) {\n",
       "    var format_dropdown = fig.format_dropdown;\n",
       "    var format = format_dropdown.options[format_dropdown.selectedIndex].value;\n",
       "    fig.ondownload(fig, format);\n",
       "}\n",
       "\n",
       "\n",
       "mpl.figure.prototype.handle_resize = function(fig, msg) {\n",
       "    var size = msg['size'];\n",
       "    if (size[0] != fig.canvas.width || size[1] != fig.canvas.height) {\n",
       "        fig._resize_canvas(size[0], size[1]);\n",
       "        fig.send_message(\"refresh\", {});\n",
       "    };\n",
       "}\n",
       "\n",
       "mpl.figure.prototype.handle_rubberband = function(fig, msg) {\n",
       "    var x0 = msg['x0'] / mpl.ratio;\n",
       "    var y0 = (fig.canvas.height - msg['y0']) / mpl.ratio;\n",
       "    var x1 = msg['x1'] / mpl.ratio;\n",
       "    var y1 = (fig.canvas.height - msg['y1']) / mpl.ratio;\n",
       "    x0 = Math.floor(x0) + 0.5;\n",
       "    y0 = Math.floor(y0) + 0.5;\n",
       "    x1 = Math.floor(x1) + 0.5;\n",
       "    y1 = Math.floor(y1) + 0.5;\n",
       "    var min_x = Math.min(x0, x1);\n",
       "    var min_y = Math.min(y0, y1);\n",
       "    var width = Math.abs(x1 - x0);\n",
       "    var height = Math.abs(y1 - y0);\n",
       "\n",
       "    fig.rubberband_context.clearRect(\n",
       "        0, 0, fig.canvas.width, fig.canvas.height);\n",
       "\n",
       "    fig.rubberband_context.strokeRect(min_x, min_y, width, height);\n",
       "}\n",
       "\n",
       "mpl.figure.prototype.handle_figure_label = function(fig, msg) {\n",
       "    // Updates the figure title.\n",
       "    fig.header.textContent = msg['label'];\n",
       "}\n",
       "\n",
       "mpl.figure.prototype.handle_cursor = function(fig, msg) {\n",
       "    var cursor = msg['cursor'];\n",
       "    switch(cursor)\n",
       "    {\n",
       "    case 0:\n",
       "        cursor = 'pointer';\n",
       "        break;\n",
       "    case 1:\n",
       "        cursor = 'default';\n",
       "        break;\n",
       "    case 2:\n",
       "        cursor = 'crosshair';\n",
       "        break;\n",
       "    case 3:\n",
       "        cursor = 'move';\n",
       "        break;\n",
       "    }\n",
       "    fig.rubberband_canvas.style.cursor = cursor;\n",
       "}\n",
       "\n",
       "mpl.figure.prototype.handle_message = function(fig, msg) {\n",
       "    fig.message.textContent = msg['message'];\n",
       "}\n",
       "\n",
       "mpl.figure.prototype.handle_draw = function(fig, msg) {\n",
       "    // Request the server to send over a new figure.\n",
       "    fig.send_draw_message();\n",
       "}\n",
       "\n",
       "mpl.figure.prototype.handle_image_mode = function(fig, msg) {\n",
       "    fig.image_mode = msg['mode'];\n",
       "}\n",
       "\n",
       "mpl.figure.prototype.updated_canvas_event = function() {\n",
       "    // Called whenever the canvas gets updated.\n",
       "    this.send_message(\"ack\", {});\n",
       "}\n",
       "\n",
       "// A function to construct a web socket function for onmessage handling.\n",
       "// Called in the figure constructor.\n",
       "mpl.figure.prototype._make_on_message_function = function(fig) {\n",
       "    return function socket_on_message(evt) {\n",
       "        if (evt.data instanceof Blob) {\n",
       "            /* FIXME: We get \"Resource interpreted as Image but\n",
       "             * transferred with MIME type text/plain:\" errors on\n",
       "             * Chrome.  But how to set the MIME type?  It doesn't seem\n",
       "             * to be part of the websocket stream */\n",
       "            evt.data.type = \"image/png\";\n",
       "\n",
       "            /* Free the memory for the previous frames */\n",
       "            if (fig.imageObj.src) {\n",
       "                (window.URL || window.webkitURL).revokeObjectURL(\n",
       "                    fig.imageObj.src);\n",
       "            }\n",
       "\n",
       "            fig.imageObj.src = (window.URL || window.webkitURL).createObjectURL(\n",
       "                evt.data);\n",
       "            fig.updated_canvas_event();\n",
       "            fig.waiting = false;\n",
       "            return;\n",
       "        }\n",
       "        else if (typeof evt.data === 'string' && evt.data.slice(0, 21) == \"data:image/png;base64\") {\n",
       "            fig.imageObj.src = evt.data;\n",
       "            fig.updated_canvas_event();\n",
       "            fig.waiting = false;\n",
       "            return;\n",
       "        }\n",
       "\n",
       "        var msg = JSON.parse(evt.data);\n",
       "        var msg_type = msg['type'];\n",
       "\n",
       "        // Call the  \"handle_{type}\" callback, which takes\n",
       "        // the figure and JSON message as its only arguments.\n",
       "        try {\n",
       "            var callback = fig[\"handle_\" + msg_type];\n",
       "        } catch (e) {\n",
       "            console.log(\"No handler for the '\" + msg_type + \"' message type: \", msg);\n",
       "            return;\n",
       "        }\n",
       "\n",
       "        if (callback) {\n",
       "            try {\n",
       "                // console.log(\"Handling '\" + msg_type + \"' message: \", msg);\n",
       "                callback(fig, msg);\n",
       "            } catch (e) {\n",
       "                console.log(\"Exception inside the 'handler_\" + msg_type + \"' callback:\", e, e.stack, msg);\n",
       "            }\n",
       "        }\n",
       "    };\n",
       "}\n",
       "\n",
       "// from http://stackoverflow.com/questions/1114465/getting-mouse-location-in-canvas\n",
       "mpl.findpos = function(e) {\n",
       "    //this section is from http://www.quirksmode.org/js/events_properties.html\n",
       "    var targ;\n",
       "    if (!e)\n",
       "        e = window.event;\n",
       "    if (e.target)\n",
       "        targ = e.target;\n",
       "    else if (e.srcElement)\n",
       "        targ = e.srcElement;\n",
       "    if (targ.nodeType == 3) // defeat Safari bug\n",
       "        targ = targ.parentNode;\n",
       "\n",
       "    // jQuery normalizes the pageX and pageY\n",
       "    // pageX,Y are the mouse positions relative to the document\n",
       "    // offset() returns the position of the element relative to the document\n",
       "    var x = e.pageX - $(targ).offset().left;\n",
       "    var y = e.pageY - $(targ).offset().top;\n",
       "\n",
       "    return {\"x\": x, \"y\": y};\n",
       "};\n",
       "\n",
       "/*\n",
       " * return a copy of an object with only non-object keys\n",
       " * we need this to avoid circular references\n",
       " * http://stackoverflow.com/a/24161582/3208463\n",
       " */\n",
       "function simpleKeys (original) {\n",
       "  return Object.keys(original).reduce(function (obj, key) {\n",
       "    if (typeof original[key] !== 'object')\n",
       "        obj[key] = original[key]\n",
       "    return obj;\n",
       "  }, {});\n",
       "}\n",
       "\n",
       "mpl.figure.prototype.mouse_event = function(event, name) {\n",
       "    var canvas_pos = mpl.findpos(event)\n",
       "\n",
       "    if (name === 'button_press')\n",
       "    {\n",
       "        this.canvas.focus();\n",
       "        this.canvas_div.focus();\n",
       "    }\n",
       "\n",
       "    var x = canvas_pos.x * mpl.ratio;\n",
       "    var y = canvas_pos.y * mpl.ratio;\n",
       "\n",
       "    this.send_message(name, {x: x, y: y, button: event.button,\n",
       "                             step: event.step,\n",
       "                             guiEvent: simpleKeys(event)});\n",
       "\n",
       "    /* This prevents the web browser from automatically changing to\n",
       "     * the text insertion cursor when the button is pressed.  We want\n",
       "     * to control all of the cursor setting manually through the\n",
       "     * 'cursor' event from matplotlib */\n",
       "    event.preventDefault();\n",
       "    return false;\n",
       "}\n",
       "\n",
       "mpl.figure.prototype._key_event_extra = function(event, name) {\n",
       "    // Handle any extra behaviour associated with a key event\n",
       "}\n",
       "\n",
       "mpl.figure.prototype.key_event = function(event, name) {\n",
       "\n",
       "    // Prevent repeat events\n",
       "    if (name == 'key_press')\n",
       "    {\n",
       "        if (event.which === this._key)\n",
       "            return;\n",
       "        else\n",
       "            this._key = event.which;\n",
       "    }\n",
       "    if (name == 'key_release')\n",
       "        this._key = null;\n",
       "\n",
       "    var value = '';\n",
       "    if (event.ctrlKey && event.which != 17)\n",
       "        value += \"ctrl+\";\n",
       "    if (event.altKey && event.which != 18)\n",
       "        value += \"alt+\";\n",
       "    if (event.shiftKey && event.which != 16)\n",
       "        value += \"shift+\";\n",
       "\n",
       "    value += 'k';\n",
       "    value += event.which.toString();\n",
       "\n",
       "    this._key_event_extra(event, name);\n",
       "\n",
       "    this.send_message(name, {key: value,\n",
       "                             guiEvent: simpleKeys(event)});\n",
       "    return false;\n",
       "}\n",
       "\n",
       "mpl.figure.prototype.toolbar_button_onclick = function(name) {\n",
       "    if (name == 'download') {\n",
       "        this.handle_save(this, null);\n",
       "    } else {\n",
       "        this.send_message(\"toolbar_button\", {name: name});\n",
       "    }\n",
       "};\n",
       "\n",
       "mpl.figure.prototype.toolbar_button_onmouseover = function(tooltip) {\n",
       "    this.message.textContent = tooltip;\n",
       "};\n",
       "mpl.toolbar_items = [[\"Home\", \"Reset original view\", \"fa fa-home icon-home\", \"home\"], [\"Back\", \"Back to previous view\", \"fa fa-arrow-left icon-arrow-left\", \"back\"], [\"Forward\", \"Forward to next view\", \"fa fa-arrow-right icon-arrow-right\", \"forward\"], [\"\", \"\", \"\", \"\"], [\"Pan\", \"Pan axes with left mouse, zoom with right\", \"fa fa-arrows icon-move\", \"pan\"], [\"Zoom\", \"Zoom to rectangle\", \"fa fa-square-o icon-check-empty\", \"zoom\"], [\"\", \"\", \"\", \"\"], [\"Download\", \"Download plot\", \"fa fa-floppy-o icon-save\", \"download\"]];\n",
       "\n",
       "mpl.extensions = [\"eps\", \"pdf\", \"png\", \"ps\", \"raw\", \"svg\"];\n",
       "\n",
       "mpl.default_extension = \"png\";var comm_websocket_adapter = function(comm) {\n",
       "    // Create a \"websocket\"-like object which calls the given IPython comm\n",
       "    // object with the appropriate methods. Currently this is a non binary\n",
       "    // socket, so there is still some room for performance tuning.\n",
       "    var ws = {};\n",
       "\n",
       "    ws.close = function() {\n",
       "        comm.close()\n",
       "    };\n",
       "    ws.send = function(m) {\n",
       "        //console.log('sending', m);\n",
       "        comm.send(m);\n",
       "    };\n",
       "    // Register the callback with on_msg.\n",
       "    comm.on_msg(function(msg) {\n",
       "        //console.log('receiving', msg['content']['data'], msg);\n",
       "        // Pass the mpl event to the overridden (by mpl) onmessage function.\n",
       "        ws.onmessage(msg['content']['data'])\n",
       "    });\n",
       "    return ws;\n",
       "}\n",
       "\n",
       "mpl.mpl_figure_comm = function(comm, msg) {\n",
       "    // This is the function which gets called when the mpl process\n",
       "    // starts-up an IPython Comm through the \"matplotlib\" channel.\n",
       "\n",
       "    var id = msg.content.data.id;\n",
       "    // Get hold of the div created by the display call when the Comm\n",
       "    // socket was opened in Python.\n",
       "    var element = $(\"#\" + id);\n",
       "    var ws_proxy = comm_websocket_adapter(comm)\n",
       "\n",
       "    function ondownload(figure, format) {\n",
       "        window.open(figure.imageObj.src);\n",
       "    }\n",
       "\n",
       "    var fig = new mpl.figure(id, ws_proxy,\n",
       "                           ondownload,\n",
       "                           element.get(0));\n",
       "\n",
       "    // Call onopen now - mpl needs it, as it is assuming we've passed it a real\n",
       "    // web socket which is closed, not our websocket->open comm proxy.\n",
       "    ws_proxy.onopen();\n",
       "\n",
       "    fig.parent_element = element.get(0);\n",
       "    fig.cell_info = mpl.find_output_cell(\"<div id='\" + id + \"'></div>\");\n",
       "    if (!fig.cell_info) {\n",
       "        console.error(\"Failed to find cell for figure\", id, fig);\n",
       "        return;\n",
       "    }\n",
       "\n",
       "    var output_index = fig.cell_info[2]\n",
       "    var cell = fig.cell_info[0];\n",
       "\n",
       "};\n",
       "\n",
       "mpl.figure.prototype.handle_close = function(fig, msg) {\n",
       "    var width = fig.canvas.width/mpl.ratio\n",
       "    fig.root.unbind('remove')\n",
       "\n",
       "    // Update the output cell to use the data from the current canvas.\n",
       "    fig.push_to_output();\n",
       "    var dataURL = fig.canvas.toDataURL();\n",
       "    // Re-enable the keyboard manager in IPython - without this line, in FF,\n",
       "    // the notebook keyboard shortcuts fail.\n",
       "    IPython.keyboard_manager.enable()\n",
       "    $(fig.parent_element).html('<img src=\"' + dataURL + '\" width=\"' + width + '\">');\n",
       "    fig.close_ws(fig, msg);\n",
       "}\n",
       "\n",
       "mpl.figure.prototype.close_ws = function(fig, msg){\n",
       "    fig.send_message('closing', msg);\n",
       "    // fig.ws.close()\n",
       "}\n",
       "\n",
       "mpl.figure.prototype.push_to_output = function(remove_interactive) {\n",
       "    // Turn the data on the canvas into data in the output cell.\n",
       "    var width = this.canvas.width/mpl.ratio\n",
       "    var dataURL = this.canvas.toDataURL();\n",
       "    this.cell_info[1]['text/html'] = '<img src=\"' + dataURL + '\" width=\"' + width + '\">';\n",
       "}\n",
       "\n",
       "mpl.figure.prototype.updated_canvas_event = function() {\n",
       "    // Tell IPython that the notebook contents must change.\n",
       "    IPython.notebook.set_dirty(true);\n",
       "    this.send_message(\"ack\", {});\n",
       "    var fig = this;\n",
       "    // Wait a second, then push the new image to the DOM so\n",
       "    // that it is saved nicely (might be nice to debounce this).\n",
       "    setTimeout(function () { fig.push_to_output() }, 1000);\n",
       "}\n",
       "\n",
       "mpl.figure.prototype._init_toolbar = function() {\n",
       "    var fig = this;\n",
       "\n",
       "    var nav_element = $('<div/>');\n",
       "    nav_element.attr('style', 'width: 100%');\n",
       "    this.root.append(nav_element);\n",
       "\n",
       "    // Define a callback function for later on.\n",
       "    function toolbar_event(event) {\n",
       "        return fig.toolbar_button_onclick(event['data']);\n",
       "    }\n",
       "    function toolbar_mouse_event(event) {\n",
       "        return fig.toolbar_button_onmouseover(event['data']);\n",
       "    }\n",
       "\n",
       "    for(var toolbar_ind in mpl.toolbar_items){\n",
       "        var name = mpl.toolbar_items[toolbar_ind][0];\n",
       "        var tooltip = mpl.toolbar_items[toolbar_ind][1];\n",
       "        var image = mpl.toolbar_items[toolbar_ind][2];\n",
       "        var method_name = mpl.toolbar_items[toolbar_ind][3];\n",
       "\n",
       "        if (!name) { continue; };\n",
       "\n",
       "        var button = $('<button class=\"btn btn-default\" href=\"#\" title=\"' + name + '\"><i class=\"fa ' + image + ' fa-lg\"></i></button>');\n",
       "        button.click(method_name, toolbar_event);\n",
       "        button.mouseover(tooltip, toolbar_mouse_event);\n",
       "        nav_element.append(button);\n",
       "    }\n",
       "\n",
       "    // Add the status bar.\n",
       "    var status_bar = $('<span class=\"mpl-message\" style=\"text-align:right; float: right;\"/>');\n",
       "    nav_element.append(status_bar);\n",
       "    this.message = status_bar[0];\n",
       "\n",
       "    // Add the close button to the window.\n",
       "    var buttongrp = $('<div class=\"btn-group inline pull-right\"></div>');\n",
       "    var button = $('<button class=\"btn btn-mini btn-primary\" href=\"#\" title=\"Stop Interaction\"><i class=\"fa fa-power-off icon-remove icon-large\"></i></button>');\n",
       "    button.click(function (evt) { fig.handle_close(fig, {}); } );\n",
       "    button.mouseover('Stop Interaction', toolbar_mouse_event);\n",
       "    buttongrp.append(button);\n",
       "    var titlebar = this.root.find($('.ui-dialog-titlebar'));\n",
       "    titlebar.prepend(buttongrp);\n",
       "}\n",
       "\n",
       "mpl.figure.prototype._root_extra_style = function(el){\n",
       "    var fig = this\n",
       "    el.on(\"remove\", function(){\n",
       "\tfig.close_ws(fig, {});\n",
       "    });\n",
       "}\n",
       "\n",
       "mpl.figure.prototype._canvas_extra_style = function(el){\n",
       "    // this is important to make the div 'focusable\n",
       "    el.attr('tabindex', 0)\n",
       "    // reach out to IPython and tell the keyboard manager to turn it's self\n",
       "    // off when our div gets focus\n",
       "\n",
       "    // location in version 3\n",
       "    if (IPython.notebook.keyboard_manager) {\n",
       "        IPython.notebook.keyboard_manager.register_events(el);\n",
       "    }\n",
       "    else {\n",
       "        // location in version 2\n",
       "        IPython.keyboard_manager.register_events(el);\n",
       "    }\n",
       "\n",
       "}\n",
       "\n",
       "mpl.figure.prototype._key_event_extra = function(event, name) {\n",
       "    var manager = IPython.notebook.keyboard_manager;\n",
       "    if (!manager)\n",
       "        manager = IPython.keyboard_manager;\n",
       "\n",
       "    // Check for shift+enter\n",
       "    if (event.shiftKey && event.which == 13) {\n",
       "        this.canvas_div.blur();\n",
       "        event.shiftKey = false;\n",
       "        // Send a \"J\" for go to next cell\n",
       "        event.which = 74;\n",
       "        event.keyCode = 74;\n",
       "        manager.command_mode();\n",
       "        manager.handle_keydown(event);\n",
       "    }\n",
       "}\n",
       "\n",
       "mpl.figure.prototype.handle_save = function(fig, msg) {\n",
       "    fig.ondownload(fig, null);\n",
       "}\n",
       "\n",
       "\n",
       "mpl.find_output_cell = function(html_output) {\n",
       "    // Return the cell and output element which can be found *uniquely* in the notebook.\n",
       "    // Note - this is a bit hacky, but it is done because the \"notebook_saving.Notebook\"\n",
       "    // IPython event is triggered only after the cells have been serialised, which for\n",
       "    // our purposes (turning an active figure into a static one), is too late.\n",
       "    var cells = IPython.notebook.get_cells();\n",
       "    var ncells = cells.length;\n",
       "    for (var i=0; i<ncells; i++) {\n",
       "        var cell = cells[i];\n",
       "        if (cell.cell_type === 'code'){\n",
       "            for (var j=0; j<cell.output_area.outputs.length; j++) {\n",
       "                var data = cell.output_area.outputs[j];\n",
       "                if (data.data) {\n",
       "                    // IPython >= 3 moved mimebundle to data attribute of output\n",
       "                    data = data.data;\n",
       "                }\n",
       "                if (data['text/html'] == html_output) {\n",
       "                    return [cell, data, j];\n",
       "                }\n",
       "            }\n",
       "        }\n",
       "    }\n",
       "}\n",
       "\n",
       "// Register the function which deals with the matplotlib target/channel.\n",
       "// The kernel may be null if the page has been refreshed.\n",
       "if (IPython.notebook.kernel != null) {\n",
       "    IPython.notebook.kernel.comm_manager.register_target('matplotlib', mpl.mpl_figure_comm);\n",
       "}\n"
      ],
      "text/plain": [
       "<IPython.core.display.Javascript object>"
      ]
     },
     "metadata": {},
     "output_type": "display_data"
    },
    {
     "data": {
      "text/html": [
       "<img src=\"data:image/png;base64,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\" width=\"432\">"
      ],
      "text/plain": [
       "<IPython.core.display.HTML object>"
      ]
     },
     "metadata": {},
     "output_type": "display_data"
    }
   ],
   "source": [
    "%matplotlib notebook\n",
    "import matplotlib.animation\n",
    "\n",
    "# t = np.linspace(0,2*np.pi)\n",
    "# x = np.sin(t)\n",
    "\n",
    "fig, ax = plt.subplots()\n",
    "l, = ax.plot([0, 268],[0, 17000])\n",
    "\n",
    "animate = lambda i: l.set_data(t[:i], x[:i])\n",
    "\n",
    "ani = matplotlib.animation.FuncAnimation(fig, animate, frames=len(t))\n",
    "\n",
    "plt.show()"
   ]
  },
  {
   "cell_type": "code",
   "execution_count": 423,
   "metadata": {},
   "outputs": [],
   "source": [
    "########"
   ]
  },
  {
   "cell_type": "code",
   "execution_count": 448,
   "metadata": {},
   "outputs": [],
   "source": [
    "# %matplotlib notebook\n",
    "# from datetime import datetime\n",
    "# from matplotlib import pyplot\n",
    "# from matplotlib.animation import FuncAnimation\n",
    "# from random import randrange\n",
    "\n",
    "# x_data, y_data = [], []\n",
    "\n",
    "# figure = pyplot.figure()\n",
    "# line, = pyplot.plot_date(x_data, y_data, '-')\n",
    "# #x_data = [reverseStandardizedValue(0, k, X_Train.shape[0], X_Train.shape[1], \n",
    "# #                                         dfAEP, 'meanCons', yHat[0][k]) for k in range(yHat.shape[1])]\n",
    "\n",
    "# def update(frame):\n",
    "#     x_data.append(datetime.now())\n",
    "#     y_data.append(randrange(0, 100))\n",
    "#     line.set_data(x_data, y_data)\n",
    "#     figure.gca().relim()\n",
    "#     figure.gca().autoscale_view()\n",
    "#     return line,\n",
    "\n",
    "# animation = FuncAnimation(figure, update, interval=200)\n",
    "\n",
    "# pyplot.show()"
   ]
  },
  {
   "cell_type": "code",
   "execution_count": null,
   "metadata": {},
   "outputs": [],
   "source": [
    "################"
   ]
  },
  {
   "cell_type": "code",
   "execution_count": 449,
   "metadata": {},
   "outputs": [],
   "source": [
    "# # Plotting the actual and predicted values.\n",
    "# plt.figure(figsize=(20,10))\n",
    "# plt.plot(actual, color='red', alpha=0.4, label=\"Actual\")\n",
    "# plt.plot(predictions, color='blue', alpha=0.4, label=\"Prediction\")\n",
    "# #plt.fill_between(x_axis, pred_50_m-lower_coridor, pred_50_m + upper_coridor, alpha=0.2, \n",
    "# #                 edgecolor='#1B2ACC', facecolor='#089FFF', linewidth=1, linestyle='dashdot', antialiased=True)\n",
    "\n",
    "# plt.xlabel('Hours')\n",
    "# plt.ylabel('Station level consumption in cubic meters (m3)')\n",
    "# plt.title('LSTM prediction for 133 days')\n",
    "# #plt.scatter(range(len(pred_10_m)), pred_90_m - pred_10_m)\n",
    "# plt.axis([-5, max(actual.shape[0], predictions.shape[0])+5, 0, 18000])\n",
    "# plt.grid(True)"
   ]
  },
  {
   "cell_type": "code",
   "execution_count": null,
   "metadata": {},
   "outputs": [],
   "source": [
    "# ### PLOT UNCERTAINTY INTERVAL LENGHT WITH REAL DATA ###\n",
    "\n",
    "# plt.figure(figsize=(16,12))\n",
    "# plt.plot(np.exp(y_test1+init[364:]), color='red', alpha=0.4, label=\"Actual\")\n",
    "# plt.plot(pred_50_m, color='blue', alpha=0.4, label=\"Prediction\")\n",
    "# plt.fill_between(x_axis, pred_50_m-lower_coridor, pred_50_m + upper_coridor, alpha=0.2, \n",
    "#                  edgecolor='#1B2ACC', facecolor='#089FFF', linewidth=1, linestyle='dashdot', antialiased=True)\n",
    "\n",
    "# plt.xlabel('Days')\n",
    "# plt.ylabel('Station level consumption in cubic meters (m3)')\n",
    "# plt.title('LSTM prediction for 133 days')\n",
    "# plt.scatter(range(len(pred_10_m)), pred_90_m - pred_10_m)\n",
    "# plt.axis([-5, 140, 0, 7000])\n",
    "# plt.grid(True)"
   ]
  },
  {
   "cell_type": "code",
   "execution_count": null,
   "metadata": {},
   "outputs": [],
   "source": []
  },
  {
   "cell_type": "code",
   "execution_count": null,
   "metadata": {},
   "outputs": [],
   "source": []
  },
  {
   "cell_type": "code",
   "execution_count": null,
   "metadata": {},
   "outputs": [],
   "source": []
  },
  {
   "cell_type": "code",
   "execution_count": null,
   "metadata": {},
   "outputs": [],
   "source": []
  },
  {
   "cell_type": "code",
   "execution_count": null,
   "metadata": {},
   "outputs": [],
   "source": []
  },
  {
   "cell_type": "code",
   "execution_count": 459,
   "metadata": {},
   "outputs": [],
   "source": [
    "# #Getting the last value of X[0] from dataframe.\n",
    "# print(dfAEP.index[X.shape[1]-1], dfAEP.loc[dfAEP.index[X.shape[1]-1],'logdiffConsAndMeanCons'])\n",
    "# print(X[0][-1])\n",
    "\n",
    "# #Getting the first value of Y[0][0] from dataframe.\n",
    "# print(dfAEP.index[X.shape[1]], dfAEP.loc[dfAEP.index[X.shape[1]],'logdiffConsAndMeanCons'])\n",
    "# print(Y[0][0])\n",
    "\n",
    "# #Getting the last value of Y[0][-1] from dataframe.\n",
    "# print(dfAEP.index[X.shape[1]+Y.shape[1]-1], dfAEP.loc[dfAEP.index[X.shape[1]+Y.shape[1]-1],'logdiffConsAndMeanCons'])\n",
    "# print(Y[0][-1])\n",
    "\n",
    "# #Getting the first value of Y[1] from dataframe.\n",
    "# print(dfAEP.index[X.shape[1]+1], dfAEP.loc[dfAEP.index[X.shape[1]+1],'logdiffConsAndMeanCons'])\n",
    "# #Getting the second row's first value from Y.\n",
    "# print(Y[1][0])\n",
    "\n",
    "# #Getting the meanConsumption from dataframe.\n",
    "# print(dfAEP.index[X.shape[1]+1], dfAEP.loc[dfAEP.index[X.shape[1]+1], 'meanCons'])\n",
    "\n",
    "\n",
    "# #Getting the first value of Y[120433][0] from dataframe.\n",
    "# print(dfAEP.index[X.shape[1]+120433+167], dfAEP.loc[dfAEP.index[X.shape[1]+120433+167],'logdiffConsAndMeanCons'])\n",
    "# #Getting the second row's first value from Y.\n",
    "# print(Y[120433][167])\n",
    "\n",
    "# #Getting the first value of Y[120433][0] from dataframe.\n",
    "# print(dfAEP.index[X.shape[1]+0+2], dfAEP.loc[dfAEP.index[X.shape[1]+0+2],['logdiffConsAndMeanCons', 'Cons']])\n",
    "# #Getting the second row's first value from Y.\n",
    "# print(Y[120433][167])\n",
    "\n",
    "# #Getting the first value of Y[0][0] from dataframe.\n",
    "# print(dfAEP.index[X.shape[1]+0+1], dfAEP.loc[dfAEP.index[X.shape[1]+0+1],['logdiffConsAndMeanCons', 'Cons']])\n",
    "# #Getting the second row's first value from Y.\n",
    "# print(Y[0][0])"
   ]
  },
  {
   "cell_type": "code",
   "execution_count": null,
   "metadata": {},
   "outputs": [],
   "source": []
  },
  {
   "cell_type": "markdown",
   "metadata": {},
   "source": [
    "# SECOND VERSION END"
   ]
  },
  {
   "cell_type": "code",
   "execution_count": 206,
   "metadata": {},
   "outputs": [],
   "source": [
    "from keras.callbacks import Callback as Callback"
   ]
  },
  {
   "cell_type": "code",
   "execution_count": 207,
   "metadata": {},
   "outputs": [],
   "source": [
    "# updatable plot\n",
    "# a minimal example (sort of)\n",
    "\n",
    "class PlotLosses(Callback):\n",
    "    def on_train_begin(self, logs={}):\n",
    "        self.i = 0\n",
    "        self.x = []\n",
    "        self.losses = []\n",
    "        self.val_losses = []\n",
    "        \n",
    "        self.fig = plt.figure()\n",
    "        \n",
    "        self.logs = []\n",
    "\n",
    "    def on_epoch_end(self, epoch, logs={}):\n",
    "        \n",
    "        self.logs.append(logs)\n",
    "        self.x.append(self.i)\n",
    "        self.losses.append(logs.get('loss'))\n",
    "        self.val_losses.append(logs.get('val_loss'))\n",
    "        self.i += 1\n",
    "        \n",
    "        clear_output(wait=True)\n",
    "        plt.plot(self.x, self.losses, label=\"loss\")\n",
    "        plt.plot(self.x, self.val_losses, label=\"val_loss\")\n",
    "        plt.legend()\n",
    "        plt.show();\n",
    "        \n",
    "plot_losses = PlotLosses()"
   ]
  },
  {
   "cell_type": "code",
   "execution_count": 72,
   "metadata": {},
   "outputs": [
    {
     "name": "stdout",
     "output_type": "stream",
     "text": [
      "(8760, 168, 1) (8760, 168)\n"
     ]
    }
   ],
   "source": [
    "print(X_train.shape, y_train.shape)"
   ]
  },
  {
   "cell_type": "code",
   "execution_count": 73,
   "metadata": {},
   "outputs": [
    {
     "data": {
      "text/plain": [
       "(8760, 168, 1)"
      ]
     },
     "execution_count": 73,
     "metadata": {},
     "output_type": "execute_result"
    }
   ],
   "source": [
    "X_train.shape"
   ]
  },
  {
   "cell_type": "code",
   "execution_count": 74,
   "metadata": {},
   "outputs": [
    {
     "name": "stderr",
     "output_type": "stream",
     "text": [
      "IOPub data rate exceeded.\n",
      "The notebook server will temporarily stop sending output\n",
      "to the client in order to avoid crashing it.\n",
      "To change this limit, set the config variable\n",
      "`--NotebookApp.iopub_data_rate_limit`.\n",
      "\n",
      "Current values:\n",
      "NotebookApp.iopub_data_rate_limit=1000000.0 (bytes/sec)\n",
      "NotebookApp.rate_limit_window=3.0 (secs)\n",
      "\n"
     ]
    },
    {
     "name": "stdout",
     "output_type": "stream",
     "text": [
      "\n"
     ]
    },
    {
     "name": "stderr",
     "output_type": "stream",
     "text": [
      "IOPub data rate exceeded.\n",
      "The notebook server will temporarily stop sending output\n",
      "to the client in order to avoid crashing it.\n",
      "To change this limit, set the config variable\n",
      "`--NotebookApp.iopub_data_rate_limit`.\n",
      "\n",
      "Current values:\n",
      "NotebookApp.iopub_data_rate_limit=1000000.0 (bytes/sec)\n",
      "NotebookApp.rate_limit_window=3.0 (secs)\n",
      "\n"
     ]
    },
    {
     "name": "stdout",
     "output_type": "stream",
     "text": [
      "\n"
     ]
    }
   ],
   "source": [
    "import csv\n",
    "import numpy as np\n",
    "fil_name = 'y_train'\n",
    "example = y_train\n",
    "example = example.tolist()\n",
    "with open(fil_name+'.csv', 'w', newline='') as csvfile:\n",
    "    writer = csv.writer(csvfile, delimiter=',')\n",
    "    writer.writerows(example)\n",
    "\n",
    "#to read file you saved\n",
    "with open(fil_name+'.csv', 'r') as f:\n",
    "  reader = csv.reader(f)\n",
    "  examples = list(reader)\n",
    "\n",
    "print(examples)\n",
    "nwexamples = []\n",
    "for row in examples:\n",
    "    nwrow = []\n",
    "    for r in row:\n",
    "        nwrow.append(eval(r))\n",
    "    nwexamples.append(nwrow)\n",
    "print(nwexamples)"
   ]
  },
  {
   "cell_type": "code",
   "execution_count": 56,
   "metadata": {},
   "outputs": [
    {
     "data": {
      "text/plain": [
       "(8760, 168)"
      ]
     },
     "execution_count": 56,
     "metadata": {},
     "output_type": "execute_result"
    }
   ],
   "source": [
    "y_train.shape"
   ]
  },
  {
   "cell_type": "code",
   "execution_count": 67,
   "metadata": {},
   "outputs": [
    {
     "data": {
      "text/plain": [
       "-9"
      ]
     },
     "execution_count": 67,
     "metadata": {},
     "output_type": "execute_result"
    }
   ],
   "source": [
    "11 % -10"
   ]
  },
  {
   "cell_type": "code",
   "execution_count": 61,
   "metadata": {},
   "outputs": [
    {
     "name": "stdout",
     "output_type": "stream",
     "text": [
      "Epoch 1/2\n",
      " - 57s - loss: 0.0415 - dense_2_loss: 0.0466 - dense_3_loss: 0.0483 - dense_4_loss: 0.0436\n",
      "Epoch 2/2\n",
      " - 60s - loss: 0.0390 - dense_2_loss: 0.0412 - dense_3_loss: 0.0478 - dense_4_loss: 0.0409\n"
     ]
    }
   ],
   "source": [
    "history = model.fit(X_train, [y_train, y_train, y_train], epochs=2, batch_size=2190, verbose=2, shuffle=True)"
   ]
  },
  {
   "cell_type": "code",
   "execution_count": 128,
   "metadata": {},
   "outputs": [
    {
     "name": "stdout",
     "output_type": "stream",
     "text": [
      "Epoch 1/30\n",
      " - 84s - loss: 0.0265 - dense_2_loss: 0.0173 - dense_3_loss: 0.0485 - dense_4_loss: 0.0226\n",
      "Epoch 2/30\n",
      " - 111s - loss: 0.0265 - dense_2_loss: 0.0173 - dense_3_loss: 0.0484 - dense_4_loss: 0.0225\n",
      "Epoch 3/30\n",
      " - 86s - loss: 0.0264 - dense_2_loss: 0.0172 - dense_3_loss: 0.0483 - dense_4_loss: 0.0225\n",
      "Epoch 4/30\n",
      " - 89s - loss: 0.0264 - dense_2_loss: 0.0171 - dense_3_loss: 0.0483 - dense_4_loss: 0.0224\n",
      "Epoch 5/30\n",
      " - 93s - loss: 0.0263 - dense_2_loss: 0.0171 - dense_3_loss: 0.0483 - dense_4_loss: 0.0224\n",
      "Epoch 6/30\n",
      " - 97s - loss: 0.0263 - dense_2_loss: 0.0171 - dense_3_loss: 0.0483 - dense_4_loss: 0.0224\n",
      "Epoch 7/30\n",
      " - 101s - loss: 0.0263 - dense_2_loss: 0.0171 - dense_3_loss: 0.0482 - dense_4_loss: 0.0224\n",
      "Epoch 8/30\n",
      " - 106s - loss: 0.0263 - dense_2_loss: 0.0171 - dense_3_loss: 0.0482 - dense_4_loss: 0.0224\n",
      "Epoch 9/30\n",
      " - 107s - loss: 0.0263 - dense_2_loss: 0.0171 - dense_3_loss: 0.0482 - dense_4_loss: 0.0224\n",
      "Epoch 10/30\n",
      " - 111s - loss: 0.0263 - dense_2_loss: 0.0170 - dense_3_loss: 0.0482 - dense_4_loss: 0.0224\n",
      "Epoch 11/30\n",
      " - 107s - loss: 0.0263 - dense_2_loss: 0.0170 - dense_3_loss: 0.0481 - dense_4_loss: 0.0224\n",
      "Epoch 12/30\n",
      " - 136s - loss: 0.0262 - dense_2_loss: 0.0170 - dense_3_loss: 0.0481 - dense_4_loss: 0.0224\n",
      "Epoch 13/30\n",
      " - 135s - loss: 0.0262 - dense_2_loss: 0.0170 - dense_3_loss: 0.0481 - dense_4_loss: 0.0224\n",
      "Epoch 14/30\n",
      " - 139s - loss: 0.0262 - dense_2_loss: 0.0170 - dense_3_loss: 0.0480 - dense_4_loss: 0.0224\n",
      "Epoch 15/30\n",
      " - 142s - loss: 0.0262 - dense_2_loss: 0.0170 - dense_3_loss: 0.0479 - dense_4_loss: 0.0224\n",
      "Epoch 16/30\n",
      " - 147s - loss: 0.0261 - dense_2_loss: 0.0169 - dense_3_loss: 0.0478 - dense_4_loss: 0.0224\n",
      "Epoch 17/30\n",
      " - 149s - loss: 0.0261 - dense_2_loss: 0.0169 - dense_3_loss: 0.0476 - dense_4_loss: 0.0224\n",
      "Epoch 18/30\n",
      " - 156s - loss: 0.0259 - dense_2_loss: 0.0168 - dense_3_loss: 0.0472 - dense_4_loss: 0.0225\n",
      "Epoch 19/30\n",
      " - 144s - loss: 0.0257 - dense_2_loss: 0.0166 - dense_3_loss: 0.0463 - dense_4_loss: 0.0226\n",
      "Epoch 20/30\n",
      " - 181s - loss: 0.0251 - dense_2_loss: 0.0165 - dense_3_loss: 0.0440 - dense_4_loss: 0.0232\n",
      "Epoch 21/30\n",
      " - 172s - loss: 0.0245 - dense_2_loss: 0.0164 - dense_3_loss: 0.0423 - dense_4_loss: 0.0228\n",
      "Epoch 22/30\n",
      " - 174s - loss: 0.0238 - dense_2_loss: 0.0163 - dense_3_loss: 0.0410 - dense_4_loss: 0.0220\n",
      "Epoch 23/30\n",
      " - 179s - loss: 0.0233 - dense_2_loss: 0.0162 - dense_3_loss: 0.0401 - dense_4_loss: 0.0213\n",
      "Epoch 24/30\n",
      " - 165s - loss: 0.0228 - dense_2_loss: 0.0161 - dense_3_loss: 0.0393 - dense_4_loss: 0.0207\n",
      "Epoch 25/30\n",
      " - 141s - loss: 0.0225 - dense_2_loss: 0.0158 - dense_3_loss: 0.0390 - dense_4_loss: 0.0201\n",
      "Epoch 26/30\n",
      " - 166s - loss: 0.0223 - dense_2_loss: 0.0156 - dense_3_loss: 0.0389 - dense_4_loss: 0.0199\n",
      "Epoch 27/30\n",
      " - 205s - loss: 0.0220 - dense_2_loss: 0.0154 - dense_3_loss: 0.0384 - dense_4_loss: 0.0195\n",
      "Epoch 28/30\n",
      " - 203s - loss: 0.0219 - dense_2_loss: 0.0152 - dense_3_loss: 0.0387 - dense_4_loss: 0.0192\n",
      "Epoch 29/30\n",
      " - 215s - loss: 0.0218 - dense_2_loss: 0.0151 - dense_3_loss: 0.0384 - dense_4_loss: 0.0190\n",
      "Epoch 30/30\n",
      " - 189s - loss: 0.0217 - dense_2_loss: 0.0151 - dense_3_loss: 0.0383 - dense_4_loss: 0.0189\n"
     ]
    }
   ],
   "source": [
    "history = model.fit(X_train, [y_train, y_train, y_train], epochs=30, batch_size=2190, verbose=2, shuffle=True)"
   ]
  },
  {
   "cell_type": "code",
   "execution_count": 129,
   "metadata": {},
   "outputs": [],
   "source": [
    "# # SAVE sequence_autoencoder model to JSON\n",
    "\n",
    "# sequence_model_json = model.to_json()\n",
    "\n",
    "# with open(\"sequence_model.json\", \"w\") as json_file:\n",
    "#     json_file.write(sequence_model_json)\n",
    "# # serialize weights to HDF5\n",
    "# model.save_weights(\"sequence_model_weights.h5\")"
   ]
  },
  {
   "cell_type": "code",
   "execution_count": 64,
   "metadata": {},
   "outputs": [],
   "source": [
    "# #Joins filepath with filename and changes the working directory.\n",
    "# model_path = (CreatePathName(os.pardir, 'Models', filename='model.json'))\n",
    "# model_weights_path = (CreatePathName(os.pardir, 'Models', filename='model_weights.h5'))"
   ]
  },
  {
   "cell_type": "code",
   "execution_count": 78,
   "metadata": {},
   "outputs": [],
   "source": [
    "# #Load sequence_autoencoder json and create model\n",
    "\n",
    "# model_read_file = open(model_path, 'r')\n",
    "# loaded_model = model_read_file.read()\n",
    "# model_read_file.close()\n",
    "# loaded_model = model_from_json(loaded_model)\n",
    "# # load weights into new model\n",
    "# loaded_model.load_weights(model_weights_path)"
   ]
  },
  {
   "cell_type": "code",
   "execution_count": 130,
   "metadata": {},
   "outputs": [
    {
     "data": {
      "text/plain": [
       "(8760, 168, 1)"
      ]
     },
     "execution_count": 130,
     "metadata": {},
     "output_type": "execute_result"
    }
   ],
   "source": [
    "X_test[0:8760].shape"
   ]
  },
  {
   "cell_type": "code",
   "execution_count": null,
   "metadata": {},
   "outputs": [],
   "source": [
    "### QUANTILEs BOOTSTRAPPING ###\n",
    "# pred_10, pred_50, pred_90 = [], [], []\n",
    "# NN = K.function([model.layers[0].input, K.learning_phase()], \n",
    "#                 [model.layers[-3].output,model.layers[-2].output,model.layers[-1].output])\n",
    "\n",
    "# for i in tqdm_notebook(range(0,10)):\n",
    "#     predd = NN([X_test[0:8760], 0.5])\n",
    "#     pred_10.append(predd[0])\n",
    "#     pred_50.append(predd[1])\n",
    "#     pred_90.append(predd[2])\n",
    "    \n",
    "# pred_10 = np.asarray(pred_10)[:,:,0] \n",
    "# pred_50 = np.asarray(pred_50)[:,:,0]\n",
    "# pred_90 = np.asarray(pred_90)[:,:,0]\n",
    "\n",
    "# ### REVERSE TRANSFORM PREDICTIONS ###\n",
    "# pred_90_m = np.exp(np.quantile(pred_90,0.9,axis=0) + mean[364*24:364*24+8760])\n",
    "# pred_50_m = np.exp(pred_50.mean(axis=0) + mean[364*24:364*24+8760])\n",
    "# pred_10_m = np.exp(np.quantile(pred_10,0.1,axis=0) + mean[364*24:364*24+8760])"
   ]
  },
  {
   "cell_type": "code",
   "execution_count": 198,
   "metadata": {},
   "outputs": [
    {
     "data": {
      "application/vnd.jupyter.widget-view+json": {
       "model_id": "9871765dcb294674b6ee7d863bc54d3a",
       "version_major": 2,
       "version_minor": 0
      },
      "text/plain": [
       "HBox(children=(IntProgress(value=0, max=10), HTML(value='')))"
      ]
     },
     "metadata": {},
     "output_type": "display_data"
    },
    {
     "name": "stdout",
     "output_type": "stream",
     "text": [
      "\n"
     ]
    }
   ],
   "source": [
    "###LOADED MODEL QUANTILEs BOOTSTRAPPING ###\n",
    "pred_10, pred_50, pred_90 = [], [], []\n",
    "NN = K.function([model.layers[0].input, K.learning_phase()], \n",
    "                [model.layers[-3].output,model.layers[-2].output,model.layers[-1].output])\n",
    "\n",
    "for i in tqdm_notebook(range(0,10)):\n",
    "    predd = NN([X_test[0:1], 0.5])\n",
    "    pred_10.append(predd[0])\n",
    "    pred_50.append(predd[1])\n",
    "    pred_90.append(predd[2])"
   ]
  },
  {
   "cell_type": "code",
   "execution_count": 201,
   "metadata": {},
   "outputs": [
    {
     "data": {
      "text/plain": [
       "(10, 1, 168)"
      ]
     },
     "execution_count": 201,
     "metadata": {},
     "output_type": "execute_result"
    }
   ],
   "source": [
    "np.array(pred_10).shape"
   ]
  },
  {
   "cell_type": "code",
   "execution_count": null,
   "metadata": {},
   "outputs": [],
   "source": [
    "#NOT NEEDED!\n",
    "# pred_10 = np.asarray(pred_10)[:,:,0] \n",
    "# pred_50 = np.asarray(pred_50)[:,:,0]\n",
    "# pred_90 = np.asarray(pred_90)[:,:,0]"
   ]
  },
  {
   "cell_type": "code",
   "execution_count": 141,
   "metadata": {},
   "outputs": [],
   "source": [
    "#Converting consumption and mean consumption to 3D arrays and getting the logarithm of them. \n",
    "#TODO: make sure correct\n",
    "df_mean = pd.DataFrame(mean, columns=['main'])\n",
    "\n",
    "mean2d = []\n",
    "for sequence in genResponse(df_mean, sequenceLength, ['main']):\n",
    "    mean2d.append(sequence)\n",
    "mean2d = np.array(response2d)\n",
    "\n",
    "#################################"
   ]
  },
  {
   "cell_type": "code",
   "execution_count": 221,
   "metadata": {},
   "outputs": [],
   "source": [
    "### REVERSE TRANSFORM PREDICTIONS ###\n",
    "pred_90_m = np.exp(np.quantile(pred_90, 0.9, axis=0) + mean2d[0])\n",
    "pred_50_m = np.exp(np.asarray(pred_50).mean(axis=0)  + mean2d[0])\n",
    "pred_10_m = np.exp(np.quantile(pred_10, 0.1, axis=0) + mean2d[0])\n"
   ]
  },
  {
   "cell_type": "code",
   "execution_count": 234,
   "metadata": {},
   "outputs": [],
   "source": [
    "#pred_50_m"
   ]
  },
  {
   "cell_type": "code",
   "execution_count": 233,
   "metadata": {},
   "outputs": [],
   "source": [
    "#np.exp(y_test[0:1] + mean2d[0])"
   ]
  },
  {
   "cell_type": "code",
   "execution_count": 237,
   "metadata": {},
   "outputs": [
    {
     "name": "stdout",
     "output_type": "stream",
     "text": [
      "0.0005242604507332028\n",
      "0.0016855583767169504\n"
     ]
    }
   ],
   "source": [
    "### EVALUATION METRIC ###\n",
    "print(mean_squared_log_error(np.exp(y_test[0:1] + mean2d[0]), pred_50_m))\n",
    "\n",
    "print(mean_squared_error(np.exp(y_test[0:1] + mean2d[0]), pred_50_m))"
   ]
  },
  {
   "cell_type": "code",
   "execution_count": 256,
   "metadata": {},
   "outputs": [
    {
     "data": {
      "text/plain": [
       "(168,)"
      ]
     },
     "execution_count": 256,
     "metadata": {},
     "output_type": "execute_result"
    }
   ],
   "source": [
    "x_axis = np.linspace(0, y_test[0:1].shape[0], y_test[0:1].shape[1])\n",
    "x_axis.shape"
   ]
  },
  {
   "cell_type": "code",
   "execution_count": 247,
   "metadata": {},
   "outputs": [],
   "source": [
    "#The sum of coridor\n",
    "uncertantanity = pred_90_m - pred_10_m\n",
    "upper_coridor = pred_90_m - pred_50_m\n",
    "lower_coridor = pred_50_m - pred_10_m"
   ]
  },
  {
   "cell_type": "code",
   "execution_count": 250,
   "metadata": {},
   "outputs": [
    {
     "data": {
      "text/plain": [
       "(168,)"
      ]
     },
     "execution_count": 250,
     "metadata": {},
     "output_type": "execute_result"
    }
   ],
   "source": [
    "np.exp(y_test[0:1] + mean2d[0]).flatten().shape"
   ]
  },
  {
   "cell_type": "code",
   "execution_count": 253,
   "metadata": {},
   "outputs": [
    {
     "data": {
      "text/plain": [
       "(168,)"
      ]
     },
     "execution_count": 253,
     "metadata": {},
     "output_type": "execute_result"
    }
   ],
   "source": [
    "pred_50_m.flatten().shape"
   ]
  },
  {
   "cell_type": "code",
   "execution_count": 259,
   "metadata": {},
   "outputs": [
    {
     "data": {
      "text/plain": [
       "array([0.72513941, 0.73387692, 0.71481055, 0.72981357, 0.73018642,\n",
       "       0.75071031, 0.76393825, 0.77987139, 0.7639877 , 0.77280765,\n",
       "       0.76833701, 0.75233438, 0.7551888 , 0.77455651, 0.75673944,\n",
       "       0.75255781, 0.74666011, 0.728054  , 0.71720727, 0.74843064,\n",
       "       0.7531333 , 0.7424764 , 0.72662318, 0.73659933, 0.72608225,\n",
       "       0.7356398 , 0.7250043 , 0.7196357 , 0.72008785, 0.72325779,\n",
       "       0.72227793, 0.73984194, 0.72928777, 0.73997893, 0.7395553 ,\n",
       "       0.73268848, 0.73811918, 0.73471143, 0.73003871, 0.72506285,\n",
       "       0.72398532, 0.72088674, 0.71592654, 0.73660879, 0.75670458,\n",
       "       0.73403654, 0.72705626, 0.71650987, 0.70795343, 0.70559341,\n",
       "       0.70984316, 0.71503928, 0.71101158, 0.71403441, 0.7179643 ,\n",
       "       0.72241436, 0.71593393, 0.71421433, 0.730082  , 0.72849488,\n",
       "       0.7231262 , 0.71880206, 0.72220617, 0.71558662, 0.70474756,\n",
       "       0.69516611, 0.69811361, 0.73568846, 0.73469158, 0.7275655 ,\n",
       "       0.71379954, 0.71246553, 0.72376706, 0.72505671, 0.73558692,\n",
       "       0.74540133, 0.74047145, 0.75634794, 0.77897208, 0.79340043,\n",
       "       0.77642928, 0.76558491, 0.75596503, 0.76601781, 0.73327697,\n",
       "       0.73009464, 0.74147683, 0.7310565 , 0.72384758, 0.71828402,\n",
       "       0.71597135, 0.74894818, 0.75266618, 0.74207485, 0.73465008,\n",
       "       0.73028131, 0.74135803, 0.74240353, 0.74809133, 0.75075516,\n",
       "       0.74868458, 0.76168649, 0.78139913, 0.7966331 , 0.78892753,\n",
       "       0.77783115, 0.76174689, 0.75283235, 0.75253896, 0.72260576,\n",
       "       0.73343731, 0.7337717 , 0.72600761, 0.72056604, 0.72015886,\n",
       "       0.75541222, 0.7535103 , 0.75151794, 0.73664809, 0.73518456,\n",
       "       0.73953202, 0.73719256, 0.73919632, 0.74643798, 0.7520769 ,\n",
       "       0.7455089 , 0.77994122, 0.77739359, 0.76883338, 0.75113798,\n",
       "       0.76679215, 0.75233454, 0.74168551, 0.74437313, 0.75292524,\n",
       "       0.73997672, 0.7268561 , 0.72811828, 0.73511135, 0.75745973,\n",
       "       0.75574552, 0.74400267, 0.73406414, 0.7512195 , 0.74586652,\n",
       "       0.74894298, 0.75118468, 0.7551124 , 0.75717644, 0.75183582,\n",
       "       0.77285315, 0.79185819, 0.77815696, 0.78430351, 0.7641338 ,\n",
       "       0.75902213, 0.75342719, 0.75023441, 0.74268902, 0.73803107,\n",
       "       0.72594275, 0.72584429, 0.72801398, 0.76764924, 0.76302874,\n",
       "       0.74832128, 0.75047946, 0.74509588])"
      ]
     },
     "execution_count": 259,
     "metadata": {},
     "output_type": "execute_result"
    }
   ],
   "source": [
    "(pred_50_m.flatten() - lower_coridor).flatten()"
   ]
  },
  {
   "cell_type": "code",
   "execution_count": 263,
   "metadata": {},
   "outputs": [
    {
     "data": {
      "image/png": "[encoded data removed]",
      "text/plain": [
       "<Figure size 1152x864 with 1 Axes>"
      ]
     },
     "metadata": {},
     "output_type": "display_data"
    }
   ],
   "source": [
    "### PLOT UNCERTAINTY INTERVAL LENGHT WITH REAL DATA ###\n",
    "\n",
    "plt.figure(figsize=(16,12))\n",
    "plt.plot(np.exp(y_test[0:1] + mean2d[0]).flatten(), color='red', alpha=0.4, label=\"Actual\")\n",
    "plt.plot(pred_50_m.flatten(), color='blue', alpha=0.4, label=\"Prediction\")\n",
    "plt.fill_between(x_axis, (pred_50_m.flatten() - lower_coridor).flatten(), (pred_50_m.flatten() + upper_coridor).flatten(), alpha=0.2, \n",
    "                 edgecolor='#1B2ACC', facecolor='#089FFF', linewidth=1, linestyle='dashdot', antialiased=True)\n",
    "\n",
    "plt.xlabel('Days')\n",
    "plt.ylabel('Station level consumption in cubic meters (m3)')\n",
    "plt.title('LSTM prediction for 133 days')\n",
    "plt.scatter(range(len(pred_10_m.flatten())), pred_90_m.flatten() - pred_10_m.flatten())\n",
    "plt.axis([-25, 200, 0, 1])\n",
    "plt.grid(True)"
   ]
  },
  {
   "cell_type": "code",
   "execution_count": 98,
   "metadata": {},
   "outputs": [
    {
     "data": {
      "text/plain": [
       "(1, 168, 1)"
      ]
     },
     "execution_count": 98,
     "metadata": {},
     "output_type": "execute_result"
    }
   ],
   "source": [
    "X_test[0:1].shape"
   ]
  },
  {
   "cell_type": "code",
   "execution_count": 112,
   "metadata": {},
   "outputs": [
    {
     "data": {
      "text/plain": [
       "<keras.backend.tensorflow_backend.Function at 0x244bc16ec50>"
      ]
     },
     "execution_count": 112,
     "metadata": {},
     "output_type": "execute_result"
    }
   ],
   "source": [
    "K.function([loaded_model.layers[0].input, K.learning_phase()], \n",
    "                [loaded_model.layers[-3].output,loaded_model.layers[-2].output,loaded_model.layers[-1].output])"
   ]
  },
  {
   "cell_type": "code",
   "execution_count": 111,
   "metadata": {},
   "outputs": [
    {
     "data": {
      "application/vnd.jupyter.widget-view+json": {
       "model_id": "c676fa59bec14b5bb199cc387a5e7a3f",
       "version_major": 2,
       "version_minor": 0
      },
      "text/plain": [
       "HBox(children=(IntProgress(value=0, max=10), HTML(value='')))"
      ]
     },
     "metadata": {},
     "output_type": "display_data"
    },
    {
     "name": "stdout",
     "output_type": "stream",
     "text": [
      "\n"
     ]
    },
    {
     "data": {
      "image/png": "[encoded data removed]",
      "text/plain": [
       "<Figure size 1152x864 with 1 Axes>"
      ]
     },
     "metadata": {},
     "output_type": "display_data"
    }
   ],
   "source": [
    "### PLOT 1 data point ###\n",
    "\n",
    "pred_10, pred_50, pred_90 = [], [], []\n",
    "\n",
    "NN = K.function([loaded_model.layers[0].input, K.learning_phase()], \n",
    "                [loaded_model.layers[-3].output,loaded_model.layers[-2].output,loaded_model.layers[-1].output])\n",
    "\n",
    "for i in tqdm_notebook(range(0,10)):\n",
    "    predd = NN([X_test[0:2], 0.5])\n",
    "    pred_10.append(predd[0])\n",
    "    pred_50.append(predd[1])\n",
    "    pred_90.append(predd[2])\n",
    "    \n",
    "pred_10 = np.asarray(pred_10)[:,:,0] \n",
    "pred_50 = np.asarray(pred_50)[:,:,0]\n",
    "pred_90 = np.asarray(pred_90)[:,:,0]\n",
    "\n",
    "### REVERSE TRANSFORM PREDICTIONS ###\n",
    "pred_90_m = np.exp(np.quantile(pred_90,0.9,axis=0) + mean[364*24:364*24+2])\n",
    "pred_50_m = np.exp(pred_50.mean(axis=0)            + mean[364*24:364*24+2])\n",
    "pred_10_m = np.exp(np.quantile(pred_10,0.1,axis=0) + mean[364*24:364*24+2])\n",
    "\n",
    "x_axis = np.linspace(0, y_test[0:2].shape[0]-1, y_test[0:2].shape[0])\n",
    "x_axis.shape\n",
    "\n",
    "upper_coridor = pred_90_m - pred_50_m\n",
    "lower_coridor = pred_50_m - pred_10_m\n",
    "\n",
    "plt.figure(figsize=(16,12))\n",
    "plt.plot(np.exp(y_test[0:1] + mean[364*24:364*24+2]), color='red', alpha=0.4, label=\"Actual\")\n",
    "plt.plot(pred_50_m, color='blue', alpha=0.4, label=\"Prediction\")\n",
    "plt.fill_between(x_axis, pred_50_m-lower_coridor, pred_50_m + upper_coridor, alpha=0.2, \n",
    "                 edgecolor='#1B2ACC', facecolor='#089FFF', linewidth=1, linestyle='dashdot', antialiased=True)\n",
    "\n",
    "plt.xlabel('Days')\n",
    "plt.ylabel('Station level consumption in cubic meters (m3)')\n",
    "plt.title('LSTM prediction for 133 days')\n",
    "plt.scatter(range(len(pred_10_m)), pred_90_m - pred_10_m)\n",
    "plt.axis([-5, 10, 0, 22000])\n",
    "plt.grid(True)"
   ]
  },
  {
   "cell_type": "code",
   "execution_count": 135,
   "metadata": {},
   "outputs": [
    {
     "data": {
      "text/plain": [
       "array([[-0.03863142],\n",
       "       [-0.09381885],\n",
       "       [-0.04514868],\n",
       "       [-0.09092932],\n",
       "       [-0.06486496],\n",
       "       [-0.09980035],\n",
       "       [ 0.01021461],\n",
       "       [-0.09305648],\n",
       "       [-0.08068102],\n",
       "       [-0.10030436]], dtype=float32)"
      ]
     },
     "execution_count": 135,
     "metadata": {},
     "output_type": "execute_result"
    }
   ],
   "source": [
    "loaded_model.predict(X_test[0:2], steps=5)[2]"
   ]
  },
  {
   "cell_type": "code",
   "execution_count": 136,
   "metadata": {},
   "outputs": [
    {
     "name": "stdout",
     "output_type": "stream",
     "text": [
      "[[-0.12433621 -0.12394565]\n",
      " [-0.11349299 -0.14959194]\n",
      " [-0.1381393  -0.11735204]\n",
      " [-0.13058826 -0.11846414]\n",
      " [-0.13472345 -0.11755972]\n",
      " [-0.12647748 -0.13323975]\n",
      " [-0.12630694 -0.12936752]\n",
      " [-0.13075124 -0.13615884]\n",
      " [-0.11079843 -0.09029803]\n",
      " [-0.13101697 -0.11558136]]\n"
     ]
    }
   ],
   "source": [
    "# print(pred_10)\n",
    "print(pred_50)\n",
    "# print(pred_90)"
   ]
  },
  {
   "cell_type": "code",
   "execution_count": 27,
   "metadata": {},
   "outputs": [
    {
     "data": {
      "text/plain": [
       "<module 'matplotlib.pyplot' from 'C:\\\\ProgramData\\\\Anaconda3\\\\lib\\\\site-packages\\\\matplotlib\\\\pyplot.py'>"
      ]
     },
     "execution_count": 27,
     "metadata": {},
     "output_type": "execute_result"
    },
    {
     "data": {
      "image/png": "[encoded data removed]",
      "text/plain": [
       "<Figure size 1296x432 with 1 Axes>"
      ]
     },
     "metadata": {},
     "output_type": "display_data"
    }
   ],
   "source": [
    "#TODO: use this data for prediction, for more accurate measurment. \n",
    "CreatePlotTotalConsumption(df=dfDiff.iloc[:1000,], y_col='ConsDiff', chart_title='AEP', \n",
    "                               x_label='Time', y_label='Electricity consumption in kw*h')"
   ]
  },
  {
   "cell_type": "code",
   "execution_count": 28,
   "metadata": {},
   "outputs": [
    {
     "data": {
      "text/plain": [
       "<module 'matplotlib.pyplot' from 'C:\\\\ProgramData\\\\Anaconda3\\\\lib\\\\site-packages\\\\matplotlib\\\\pyplot.py'>"
      ]
     },
     "execution_count": 28,
     "metadata": {},
     "output_type": "execute_result"
    },
    {
     "data": {
      "image/png": "[encoded data removed]",
      "text/plain": [
       "<Figure size 1296x432 with 1 Axes>"
      ]
     },
     "metadata": {},
     "output_type": "display_data"
    }
   ],
   "source": [
    " CreatePlotTotalConsumption(df=dfAEP.iloc[24*365:2*24*365,:], y_col='Cons', chart_title='AEP', \n",
    "                               x_label='Time', y_label='Electricity consumption in kw*h')"
   ]
  }
 ],
 "metadata": {
  "kernelspec": {
   "display_name": "Python 3",
   "language": "python",
   "name": "python3"
  },
  "language_info": {
   "codemirror_mode": {
    "name": "ipython",
    "version": 3
   },
   "file_extension": ".py",
   "mimetype": "text/x-python",
   "name": "python",
   "nbconvert_exporter": "python",
   "pygments_lexer": "ipython3",
   "version": "3.7.3"
  }
 },
 "nbformat": 4,
 "nbformat_minor": 2
}
